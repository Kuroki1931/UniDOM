{
 "cells": [
  {
   "cell_type": "code",
   "execution_count": 1,
   "id": "8e660e76",
   "metadata": {},
   "outputs": [],
   "source": [
    "import io\n",
    "import cv2\n",
    "import numpy as np\n",
    "import pickle\n",
    "import matplotlib.pyplot as plt\n",
    "from mpl_toolkits.mplot3d import axes3d, Axes3D"
   ]
  },
  {
   "cell_type": "code",
   "execution_count": 47,
   "id": "249491ac",
   "metadata": {},
   "outputs": [],
   "source": [
    "def analyze_points(path, start, end, flag='real2sim_grad'):\n",
    "    dist_list = []\n",
    "    E_list = []\n",
    "    nu_list = []\n",
    "    if flag == 'real2sim_grad':\n",
    "        for i in range(start, end):\n",
    "            with open(f'{path}/{i}/setting4.txt', 'rb') as f:\n",
    "                setting = f.readlines()[0].decode('utf8').rstrip()\n",
    "                setting = setting.split(',')\n",
    "                dist_list.append(float(setting[0]))\n",
    "                E_list.append(float(setting[4]))\n",
    "                nu_list.append(float(setting[5]))\n",
    "        E_mean, E_std = np.mean(E_list), np.std(E_list)\n",
    "        nu_mean, nu_std = np.mean(nu_list), np.std(nu_list)\n",
    "        dist_mean, dist_std = np.mean(dist_list), np.std(dist_list)\n",
    "        print(f'E, {E_mean:.4f}±{E_std:.4f}')\n",
    "        print(f'nu, {nu_mean:.4f}±{nu_std:.4f}')\n",
    "        print(f'dist, {dist_mean:.4f}±{dist_std:.4f}')\n",
    "        return dist_list, E_list, nu_list\n",
    "    elif flag == 'sim2sim_learning':\n",
    "        E_loss_list = []\n",
    "        nu_loss_list = []\n",
    "        for i in range(start, end):\n",
    "            with open(f'{path}/{i}.txt', 'rb') as f:\n",
    "                setting = f.readlines()[0].decode('utf8').rstrip()\n",
    "                setting = setting.split(',')\n",
    "                dist_list.append(float(setting[0]))\n",
    "                E_list.append(float(setting[4]))\n",
    "                nu_list.append(float(setting[5]))\n",
    "                E_loss_list.append(np.abs((float(setting[1]) - float(setting[4]))))\n",
    "                nu_loss_list.append(np.abs((float(setting[2]) - float(setting[5]))))\n",
    "        E_mean, E_std = np.mean(E_list), np.std(E_list)\n",
    "        nu_mean, nu_std = np.mean(nu_list), np.std(nu_list)\n",
    "        dist_mean, dist_std = np.mean(dist_list), np.std(dist_list)\n",
    "        E_loss_mean, E_loss_std = np.mean(E_loss_list), np.std(E_loss_list)\n",
    "        nu_loss_mean, nu_loss_std = np.mean(nu_loss_list), np.std(nu_loss_list)\n",
    "        print(f'E_loss, {E_loss_mean:.4f}±{E_loss_std:.4f}')\n",
    "        print(f'nu_loss, {nu_loss_mean:.4f}±{nu_loss_std:.4f}')\n",
    "        print(f'E, {E_mean:.4f}±{E_std:.4f}')\n",
    "        print(f'nu, {nu_mean:.4f}±{nu_std:.4f}')\n",
    "        print(f'dist, {dist_mean:.4f}±{dist_std:.4f}')\n",
    "        return dist_list, E_list, nu_list\n",
    "    elif flag == 'sim2sim_grad':\n",
    "        E_loss_list = []\n",
    "        nu_loss_list = []\n",
    "        for i in range(start, end):\n",
    "            with open(f'{path}/{i}/setting.txt', 'rb') as f:\n",
    "                setting = f.readlines()[0].decode('utf8').rstrip()\n",
    "                setting = setting.split(',')\n",
    "                dist_list.append(float(setting[0]))\n",
    "                E_list.append(float(setting[7]))\n",
    "                nu_list.append(float(setting[8]))\n",
    "                E_loss_list.append(np.abs((float(setting[1]) - float(setting[7]))))\n",
    "                nu_loss_list.append(np.abs((float(setting[2]) - float(setting[8]))))\n",
    "        E_mean, E_std = np.mean(E_list), np.std(E_list)\n",
    "        nu_mean, nu_std = np.mean(nu_list), np.std(nu_list)\n",
    "        dist_mean, dist_std = np.mean(dist_list), np.std(dist_list)\n",
    "        E_loss_mean, E_loss_std = np.mean(E_loss_list), np.std(E_loss_list)\n",
    "        nu_loss_mean, nu_loss_std = np.mean(nu_loss_list), np.std(nu_loss_list)\n",
    "        print(f'E_loss, {E_loss_mean:.4f}±{E_loss_std:.4f}')\n",
    "        print(f'nu_loss, {nu_loss_mean:.4f}±{nu_loss_std:.4f}')\n",
    "        print(f'E, {E_mean:.4f}±{E_std:.4f}')\n",
    "        print(f'nu, {nu_mean:.4f}±{nu_std:.4f}')\n",
    "        print(f'dist, {dist_mean:.4f}±{dist_std:.4f}')\n",
    "        return dist_list, E_list, nu_list\n"
   ]
  },
  {
   "cell_type": "code",
   "execution_count": 48,
   "id": "c1e2e924",
   "metadata": {},
   "outputs": [
    {
     "name": "stdout",
     "output_type": "stream",
     "text": [
      "red--------------\n",
      "E, 1779.3772±7.2369\n",
      "nu, 0.3508±0.0383\n",
      "dist, 0.0343±0.0001\n",
      "white--------------\n",
      "E, 3274.3974±3.7203\n",
      "nu, 0.3460±0.0333\n",
      "dist, 0.0589±0.0001\n",
      "yellow--------------\n",
      "E, 8000.3056±48.0375\n",
      "nu, 0.3596±0.0355\n",
      "dist, 0.0532±0.0001\n"
     ]
    }
   ],
   "source": [
    "print('red--------------')\n",
    "dist_list, E_list, nu_list = analyze_points('/root/real2sim/real2sim/real_points/red/2023-05-21 02_15_29.987034', 2000, 2008, 'real2sim_grad')\n",
    "print('white--------------')\n",
    "dist_list, E_list, nu_list = analyze_points('/root/real2sim/real2sim/real_points/white/2023-05-21 02_15_33.014992', 2000, 2008, 'real2sim_grad')\n",
    "print('yellow--------------')\n",
    "dist_list, E_list, nu_list = analyze_points('/root/real2sim/real2sim/real_points/yellow/2023-05-20 18:30:10.182365', 2000, 2008, 'real2sim_grad')\n"
   ]
  },
  {
   "cell_type": "code",
   "execution_count": 49,
   "id": "b7517f99",
   "metadata": {},
   "outputs": [
    {
     "name": "stdout",
     "output_type": "stream",
     "text": [
      "sim2sim learning--------------\n",
      "E_loss, 300.8053±254.8690\n",
      "nu_loss, 0.0370±0.0236\n",
      "E, 4661.4089±2366.9008\n",
      "nu, 0.3382±0.0400\n",
      "dist, 0.0032±0.0018\n",
      "sim2sim grad--------------\n",
      "E_loss, 11.3673±7.3139\n",
      "nu_loss, 0.0045±0.0069\n",
      "E, 4369.5699±2135.1620\n",
      "nu, 0.3044±0.0642\n",
      "dist, 0.0003±0.0004\n"
     ]
    }
   ],
   "source": [
    "print('sim2sim learning--------------')\n",
    "dist_list, E_list, nu_list = analyze_points('/root/real2sim/sim2sim/log/Move_500_10500_0.2_0.4_200_200/2023-05-21_03-07/2023-05-21_03-38/evaluation', 2000, 2010, 'sim2sim_learning')\n",
    "print('sim2sim grad--------------')\n",
    "dist_list, E_list, nu_list = analyze_points('/root/real2sim/sim2sim/output/sum', 2000, 2010, 'sim2sim_grad')\n",
    "\n"
   ]
  },
  {
   "cell_type": "code",
   "execution_count": 50,
   "id": "ce64fc27",
   "metadata": {},
   "outputs": [
    {
     "name": "stdout",
     "output_type": "stream",
     "text": [
      "(117, 3) (152, 3) (163, 3)\n"
     ]
    }
   ],
   "source": [
    "red = np.load('/root/real2sim/real2sim/real_points/red/real_pcds_modify.npy', allow_pickle=True)[-1]\n",
    "white = np.load('/root/real2sim/real2sim/real_points/white/real_pcds_modify.npy', allow_pickle=True)[-1]\n",
    "yellow = np.load('/root/real2sim/real2sim/real_points/yellow/real_pcds_modify.npy', allow_pickle=True)[-1]\n",
    "\n",
    "print(red.shape, white.shape, yellow.shape)"
   ]
  },
  {
   "cell_type": "code",
   "execution_count": 51,
   "id": "df770a8c",
   "metadata": {},
   "outputs": [
    {
     "data": {
      "text/plain": [
       "<mpl_toolkits.mplot3d.art3d.Path3DCollection at 0x7f28c6c269a0>"
      ]
     },
     "execution_count": 51,
     "metadata": {},
     "output_type": "execute_result"
    },
    {
     "data": {
      "image/png": "[encoded data removed]",
      "text/plain": [
       "<Figure size 1500x500 with 1 Axes>"
      ]
     },
     "metadata": {},
     "output_type": "display_data"
    }
   ],
   "source": [
    "pcds = white\n",
    "fig = plt.figure(figsize=(15, 5))\n",
    "ax1 = fig.add_subplot(1, 3, 1, projection='3d')\n",
    "ax1.view_init(90, -90)\n",
    "ax1.set_xlabel('X Label')\n",
    "ax1.set_ylabel('Y Label')\n",
    "ax1.set_zlabel('Z Label')\n",
    "ax1.scatter(pcds[:, 0], pcds[:, 1], pcds[:, 2], s=1)"
   ]
  },
  {
   "cell_type": "code",
   "execution_count": null,
   "id": "1632711e",
   "metadata": {},
   "outputs": [],
   "source": []
  }
 ],
 "metadata": {
  "kernelspec": {
   "display_name": "Python 3",
   "language": "python",
   "name": "python3"
  },
  "language_info": {
   "codemirror_mode": {
    "name": "ipython",
    "version": 3
   },
   "file_extension": ".py",
   "mimetype": "text/x-python",
   "name": "python",
   "nbconvert_exporter": "python",
   "pygments_lexer": "ipython3",
   "version": "3.8.10"
  },
  "vscode": {
   "interpreter": {
    "hash": "916dbcbb3f70747c44a77c7bcd40155683ae19c65e1c03b4aa3499c5328201f1"
   }
  }
 },
 "nbformat": 4,
 "nbformat_minor": 5
}
