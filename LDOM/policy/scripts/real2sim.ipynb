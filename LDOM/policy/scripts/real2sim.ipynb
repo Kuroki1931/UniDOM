{
 "cells": [
  {
   "cell_type": "code",
   "execution_count": 3,
   "id": "8e660e76",
   "metadata": {},
   "outputs": [],
   "source": [
    "import io\n",
    "import cv2\n",
    "import numpy as np\n",
    "import pickle\n",
    "import matplotlib.pyplot as plt\n",
    "from mpl_toolkits.mplot3d import axes3d, Axes3D"
   ]
  },
  {
   "cell_type": "code",
   "execution_count": 13,
   "id": "249491ac",
   "metadata": {},
   "outputs": [],
   "source": [
    "def analyze_points(path, start, end, flag='real2sim_grad'):\n",
    "    dist_list = []\n",
    "    E_list = []\n",
    "    nu_list = []\n",
    "    if flag == 'real2sim_grad':\n",
    "        for i in range(start, end):\n",
    "            with open(f'{path}/{i}/setting.txt', 'rb') as f:\n",
    "                setting = f.readlines()[0].decode('utf8').rstrip()\n",
    "                setting = setting.split(',')\n",
    "                dist_list.append(float(setting[0]))\n",
    "                E_list.append(float(setting[4]))\n",
    "                nu_list.append(float(setting[5]))\n",
    "        E_mean, E_std = np.mean(E_list), np.std(E_list)\n",
    "        nu_mean, nu_std = np.mean(nu_list), np.std(nu_list)\n",
    "        dist_mean, dist_std = np.mean(dist_list), np.std(dist_list)\n",
    "        print(f'E, {E_mean:.4f}±{E_std:.4f}')\n",
    "        print(f'nu, {nu_mean:.4f}±{nu_std:.4f}')\n",
    "        print(f'dist, {dist_mean:.4f}±{dist_std:.4f}')\n",
    "        return dist_list, E_list, nu_list\n",
    "    elif flag == 'sim2sim_grad':\n",
    "        E_loss_list = []\n",
    "        nu_loss_list = []\n",
    "        for i in range(start, end):\n",
    "            with open(f'{path}/{i}.txt', 'rb') as f:\n",
    "                setting = f.readlines()[0].decode('utf8').rstrip()\n",
    "                setting = setting.split(',')\n",
    "                dist_list.append(float(setting[0]))\n",
    "                E_list.append(float(setting[4]))\n",
    "                nu_list.append(float(setting[5]))\n",
    "                E_loss_list.append(np.abs((float(setting[1]) - float(setting[4]))))\n",
    "                nu_loss_list.append(np.abs((float(setting[2]) - float(setting[5]))))\n",
    "        E_mean, E_std = np.mean(E_list), np.std(E_list)\n",
    "        nu_mean, nu_std = np.mean(nu_list), np.std(nu_list)\n",
    "        dist_mean, dist_std = np.mean(dist_list), np.std(dist_list)\n",
    "        E_loss_mean, E_loss_std = np.mean(E_loss_list), np.std(E_loss_list)\n",
    "        nu_loss_mean, nu_loss_std = np.mean(nu_loss_list), np.std(nu_loss_list)\n",
    "        print(f'E_loss, {E_loss_mean:.4f}±{E_loss_std:.4f}')\n",
    "        print(f'nu_loss, {nu_loss_mean:.4f}±{nu_loss_std:.4f}')\n",
    "        print(f'E, {E_mean:.4f}±{E_std:.4f}')\n",
    "        print(f'nu, {nu_mean:.4f}±{nu_std:.4f}')\n",
    "        print(f'dist, {dist_mean:.4f}±{dist_std:.4f}')\n",
    "        return dist_list, E_list, nu_list\n"
   ]
  },
  {
   "cell_type": "code",
   "execution_count": 14,
   "id": "c1e2e924",
   "metadata": {},
   "outputs": [
    {
     "name": "stdout",
     "output_type": "stream",
     "text": [
      "red--------------\n",
      "E, 1780.3225±2.4649\n",
      "nu, 0.3755±0.0473\n",
      "dist, 0.0372±0.0051\n",
      "white--------------\n",
      "E, 3272.7434±2.6494\n",
      "nu, 0.3622±0.0336\n",
      "dist, 0.0102±0.0028\n",
      "yellow--------------\n",
      "E, 8023.4205±26.0099\n",
      "nu, 0.3493±0.0329\n",
      "dist, 0.0450±0.0001\n"
     ]
    }
   ],
   "source": [
    "print('red--------------')\n",
    "dist_list, E_list, nu_list = analyze_points('/root/real2sim/real2sim/real_points/red/2023-05-20 18_43_43.354059', 0, 5, 'real2sim_grad')\n",
    "print('white--------------')\n",
    "dist_list, E_list, nu_list = analyze_points('/root/real2sim/real2sim/real_points/white/2023-05-20 18_43_46.015283', 0, 5, 'real2sim_grad')\n",
    "print('yellow--------------')\n",
    "dist_list, E_list, nu_list = analyze_points('/root/real2sim/real2sim/real_points/yellow/2023-05-20 18:30:10.182365', 2000, 2005, 'real2sim_grad')\n"
   ]
  },
  {
   "cell_type": "code",
   "execution_count": 15,
   "id": "b7517f99",
   "metadata": {},
   "outputs": [
    {
     "name": "stdout",
     "output_type": "stream",
     "text": [
      "sim2sim--------------\n",
      "E_loss, 300.8053±254.8690\n",
      "nu_loss, 0.0370±0.0236\n",
      "E, 4661.4089±2366.9008\n",
      "nu, 0.3382±0.0400\n",
      "dist, 0.0032±0.0018\n"
     ]
    }
   ],
   "source": [
    "print('sim2sim--------------')\n",
    "dist_list, E_list, nu_list = analyze_points('/root/real2sim/sim2sim/log/Move_500_10500_0.2_0.4_200_200/2023-05-21_03-07/2023-05-21_03-38/evaluation', 2000, 2010, 'sim2sim_grad')"
   ]
  },
  {
   "cell_type": "code",
   "execution_count": null,
   "id": "ce64fc27",
   "metadata": {},
   "outputs": [],
   "source": []
  },
  {
   "cell_type": "code",
   "execution_count": null,
   "id": "df770a8c",
   "metadata": {},
   "outputs": [],
   "source": []
  }
 ],
 "metadata": {
  "kernelspec": {
   "display_name": "Python 3",
   "language": "python",
   "name": "python3"
  },
  "language_info": {
   "codemirror_mode": {
    "name": "ipython",
    "version": 3
   },
   "file_extension": ".py",
   "mimetype": "text/x-python",
   "name": "python",
   "nbconvert_exporter": "python",
   "pygments_lexer": "ipython3",
   "version": "3.8.10"
  },
  "vscode": {
   "interpreter": {
    "hash": "916dbcbb3f70747c44a77c7bcd40155683ae19c65e1c03b4aa3499c5328201f1"
   }
  }
 },
 "nbformat": 4,
 "nbformat_minor": 5
}
