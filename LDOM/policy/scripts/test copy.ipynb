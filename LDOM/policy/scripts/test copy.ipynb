{
 "cells": [
  {
   "cell_type": "code",
   "execution_count": 2,
   "id": "8e660e76",
   "metadata": {},
   "outputs": [],
   "source": [
    "import io\n",
    "import glob\n",
    "import numpy as np\n",
    "import matplotlib.pyplot as plt\n",
    "from mpl_toolkits.mplot3d import axes3d, Axes3D\n",
    "import pickle\n",
    "\n",
    "import numpy as np\n",
    "from scipy import stats \n",
    "from numpy.random import seed\n",
    "from numpy.random import randn\n",
    "from numpy.random import normal\n",
    "from scipy.stats import ttest_1samp"
   ]
  },
  {
   "cell_type": "code",
   "execution_count": 3,
   "id": "672863af",
   "metadata": {},
   "outputs": [],
   "source": [
    "# compare average and success rate"
   ]
  },
  {
   "cell_type": "code",
   "execution_count": 18,
   "id": "52836e1c",
   "metadata": {},
   "outputs": [
    {
     "name": "stdout",
     "output_type": "stream",
     "text": [
      "-----------------------------------------\n",
      "train iteration 0\n",
      "-----------------------------------------\n",
      "with parameter policy\n",
      "success 0.07694053177825666 std 0.05078070829356924\n",
      "mu mean 1076.6937262460133 std 540.7747950335247\n",
      "lam mean 1192.6791489702787 std 506.2561097391229\n",
      "yield_stress mean 280.9528003586341 std 140.99886653300558\n",
      "---------------------------\n",
      "without parameter policy\n",
      "success 0.10863561478242639 std 0.043253582329252395\n",
      "mu mean 1076.6937262460133 std 540.7747950335247\n",
      "lam mean 1192.6791489702787 std 506.2561097391229\n",
      "yield_stress mean 280.9528003586341 std 140.99886653300558\n",
      "---------------------------\n",
      "-----------------------------------------\n",
      "train iteration 49\n",
      "-----------------------------------------\n",
      "with parameter policy\n",
      "success 0.046605184528312533 std 0.062244751457795434\n",
      "mu mean 1015.5625223808062 std 498.31633895749786\n",
      "lam mean 1049.601401135738 std 499.57421081212607\n",
      "yield_stress mean 278.8384887266127 std 121.46119307315644\n",
      "---------------------------\n",
      "without parameter policy\n",
      "success 0.0656872981632582 std 0.05771672017341882\n",
      "mu mean 1015.5625223808062 std 498.31633895749786\n",
      "lam mean 1049.601401135738 std 499.57421081212607\n",
      "yield_stress mean 278.8384887266127 std 121.46119307315644\n",
      "---------------------------\n",
      "-----------------------------------------\n",
      "train iteration 99\n",
      "-----------------------------------------\n",
      "with parameter policy\n",
      "success 0.12873039162438224 std 0.05337044707573605\n",
      "mu mean 1070.3239193096458 std 498.51097707280627\n",
      "lam mean 959.3134312781906 std 476.78769426549917\n",
      "yield_stress mean 233.28214436087984 std 134.93614926005586\n",
      "---------------------------\n",
      "without parameter policy\n",
      "success 0.12221905050272641 std 0.05402618820573229\n",
      "mu mean 1070.3239193096458 std 498.51097707280627\n",
      "lam mean 959.3134312781906 std 476.78769426549917\n",
      "yield_stress mean 233.28214436087984 std 134.93614926005586\n",
      "---------------------------\n",
      "-----------------------------------------\n",
      "train iteration 149\n",
      "-----------------------------------------\n",
      "with parameter policy\n",
      "success 0.09063319165522177 std 0.04519425352760088\n",
      "mu mean 1249.2169296784473 std 483.3590195467063\n",
      "lam mean 1101.6388403299345 std 501.6602633654686\n",
      "yield_stress mean 253.88940509785647 std 125.90078964502028\n",
      "---------------------------\n",
      "without parameter policy\n",
      "success 0.11893283006859093 std 0.055005187259700106\n",
      "mu mean 1249.2169296784473 std 483.3590195467063\n",
      "lam mean 1101.6388403299345 std 501.6602633654686\n",
      "yield_stress mean 253.88940509785647 std 125.90078964502028\n",
      "---------------------------\n",
      "-----------------------------------------\n",
      "train iteration 199\n",
      "-----------------------------------------\n",
      "with parameter policy\n",
      "success 0.07843997065889328 std 0.048691978473190047\n",
      "mu mean 991.2116032483541 std 556.2200454980062\n",
      "lam mean 1146.6943551721054 std 479.74184354348046\n",
      "yield_stress mean 257.73171954878427 std 150.40229678115153\n",
      "---------------------------\n",
      "without parameter policy\n",
      "success 0.08801939522688773 std 0.05846921024053979\n",
      "mu mean 991.2116032483541 std 556.2200454980062\n",
      "lam mean 1146.6943551721054 std 479.74184354348046\n",
      "yield_stress mean 257.73171954878427 std 150.40229678115153\n",
      "---------------------------\n",
      "-----------------------------------------\n",
      "train iteration 249\n",
      "-----------------------------------------\n",
      "with parameter policy\n",
      "success 0.07271217313404006 std 0.06700274704688722\n",
      "mu mean 980.6250266565526 std 483.45159137334576\n",
      "lam mean 1038.488105534609 std 487.3905483209339\n",
      "yield_stress mean 245.5826246161119 std 139.3179128156472\n",
      "---------------------------\n",
      "without parameter policy\n",
      "success 0.09325256663706226 std 0.061403216514006737\n",
      "mu mean 980.6250266565526 std 483.45159137334576\n",
      "lam mean 1038.488105534609 std 487.3905483209339\n",
      "yield_stress mean 245.5826246161119 std 139.3179128156472\n",
      "---------------------------\n",
      "-----------------------------------------\n",
      "train iteration 299\n",
      "-----------------------------------------\n",
      "with parameter policy\n",
      "success 0.1773902637569253 std 0.03763599789480459\n",
      "mu mean 1110.770988331298 std 488.9211352651057\n",
      "lam mean 1135.4243594803056 std 530.4707254165336\n",
      "yield_stress mean 253.86096732402746 std 140.9748689892161\n",
      "---------------------------\n",
      "without parameter policy\n",
      "success 0.08930539835262964 std 0.05756390813015551\n",
      "mu mean 1110.770988331298 std 488.9211352651057\n",
      "lam mean 1135.4243594803056 std 530.4707254165336\n",
      "yield_stress mean 253.86096732402746 std 140.9748689892161\n",
      "---------------------------\n",
      "-----------------------------------------\n",
      "train iteration 349\n",
      "-----------------------------------------\n",
      "with parameter policy\n",
      "success 0.07785240956592326 std 0.08033005674315509\n",
      "mu mean 988.2496609333867 std 480.61357072919475\n",
      "lam mean 944.5066474597049 std 472.43290512807056\n",
      "yield_stress mean 260.508663691175 std 142.66279636161815\n",
      "---------------------------\n",
      "without parameter policy\n",
      "success 0.061781500632002405 std 0.06841151039111248\n",
      "mu mean 988.2496609333867 std 480.61357072919475\n",
      "lam mean 944.5066474597049 std 472.43290512807056\n",
      "yield_stress mean 260.508663691175 std 142.66279636161815\n",
      "---------------------------\n",
      "-----------------------------------------\n",
      "train iteration 399\n",
      "-----------------------------------------\n",
      "with parameter policy\n",
      "success 0.15391689297150435 std 0.11726449728707523\n",
      "mu mean 1175.8790283246897 std 525.9355048522444\n",
      "lam mean 1213.924902306162 std 457.0210154706454\n",
      "yield_stress mean 244.91064526642302 std 163.93606192859264\n",
      "---------------------------\n",
      "without parameter policy\n",
      "success 0.1578407581241353 std 0.08567383299270662\n",
      "mu mean 1175.8790283246897 std 525.9355048522444\n",
      "lam mean 1213.924902306162 std 457.0210154706454\n",
      "yield_stress mean 244.91064526642302 std 163.93606192859264\n",
      "---------------------------\n",
      "-----------------------------------------\n",
      "train iteration 449\n",
      "-----------------------------------------\n",
      "with parameter policy\n",
      "success 0.10892078315196789 std 0.09703143672967984\n",
      "mu mean 1139.4274845421974 std 536.9973382771909\n",
      "lam mean 1246.4097302405053 std 513.3976810369144\n",
      "yield_stress mean 275.10523120900876 std 135.66343283796948\n",
      "---------------------------\n",
      "without parameter policy\n",
      "success 0.1344069874603798 std 0.08167120842096882\n",
      "mu mean 1139.4274845421974 std 536.9973382771909\n",
      "lam mean 1246.4097302405053 std 513.3976810369144\n",
      "yield_stress mean 275.10523120900876 std 135.66343283796948\n",
      "---------------------------\n",
      "-----------------------------------------\n",
      "train iteration 499\n",
      "-----------------------------------------\n",
      "with parameter policy\n",
      "success 0.11043786747316042 std 0.13452822009827545\n",
      "mu mean 1015.8955945187923 std 558.2956736311927\n",
      "lam mean 1069.9741638059086 std 539.7205491455435\n",
      "yield_stress mean 246.91482938259148 std 144.52537630838867\n",
      "---------------------------\n",
      "without parameter policy\n",
      "success 0.10298526361054393 std 0.11752233315809742\n",
      "mu mean 1015.8955945187923 std 558.2956736311927\n",
      "lam mean 1069.9741638059086 std 539.7205491455435\n",
      "yield_stress mean 246.91482938259148 std 144.52537630838867\n",
      "---------------------------\n",
      "-----------------------------------------\n",
      "train iteration 549\n",
      "-----------------------------------------\n",
      "with parameter policy\n",
      "success 0.10191318697673005 std 0.09930489884936854\n",
      "mu mean 1074.0257690721455 std 506.27634967935404\n",
      "lam mean 1077.7690369865968 std 547.151454692558\n",
      "yield_stress mean 284.12506351602735 std 136.6516059531851\n",
      "---------------------------\n",
      "without parameter policy\n",
      "success 0.08266165134226826 std 0.12405951913404663\n",
      "mu mean 1074.0257690721455 std 506.27634967935404\n",
      "lam mean 1077.7690369865968 std 547.151454692558\n",
      "yield_stress mean 284.12506351602735 std 136.6516059531851\n",
      "---------------------------\n",
      "-----------------------------------------\n",
      "train iteration 599\n",
      "-----------------------------------------\n",
      "with parameter policy\n",
      "success 0.15342990777934137 std 0.1372376449872817\n",
      "mu mean 1065.2904772285756 std 526.0830291385146\n",
      "lam mean 973.9244545303985 std 503.7085364242488\n",
      "yield_stress mean 226.04249508175337 std 130.0469712037126\n",
      "---------------------------\n",
      "without parameter policy\n",
      "success 0.15459680140122586 std 0.12303476742168902\n",
      "mu mean 1065.2904772285756 std 526.0830291385146\n",
      "lam mean 973.9244545303985 std 503.7085364242488\n",
      "yield_stress mean 226.04249508175337 std 130.0469712037126\n",
      "---------------------------\n",
      "-----------------------------------------\n",
      "train iteration 649\n",
      "-----------------------------------------\n",
      "with parameter policy\n",
      "success 0.12503801834915435 std 0.11290865431139453\n",
      "mu mean 1036.396388967105 std 485.7581148848107\n",
      "lam mean 1120.784850574514 std 463.7507792531138\n",
      "yield_stress mean 239.6927537926084 std 139.08790601921868\n",
      "---------------------------\n",
      "without parameter policy\n",
      "success 0.12199368350840314 std 0.11222226259249034\n",
      "mu mean 1036.396388967105 std 485.7581148848107\n",
      "lam mean 1120.784850574514 std 463.7507792531138\n",
      "yield_stress mean 239.6927537926084 std 139.08790601921868\n",
      "---------------------------\n",
      "-----------------------------------------\n",
      "train iteration 699\n",
      "-----------------------------------------\n",
      "with parameter policy\n",
      "success 0.12179831270955678 std 0.10084186710733223\n",
      "mu mean 1070.5015130419183 std 548.8126645230595\n",
      "lam mean 1099.7881762653365 std 549.6454025591141\n",
      "yield_stress mean 250.00125556480623 std 129.01801293315845\n",
      "---------------------------\n",
      "without parameter policy\n",
      "success 0.11525283680923085 std 0.12896778520517382\n",
      "mu mean 1070.5015130419183 std 548.8126645230595\n",
      "lam mean 1099.7881762653365 std 549.6454025591141\n",
      "yield_stress mean 250.00125556480623 std 129.01801293315845\n",
      "---------------------------\n",
      "-----------------------------------------\n",
      "train iteration 749\n",
      "-----------------------------------------\n",
      "with parameter policy\n",
      "success 0.13111409015295206 std 0.13742796106882404\n",
      "mu mean 1158.52376534445 std 525.6166106757894\n",
      "lam mean 1079.2267163255265 std 479.5060801645777\n",
      "yield_stress mean 275.1555417591919 std 135.32208840297278\n",
      "---------------------------\n",
      "without parameter policy\n",
      "success 0.1494963428787307 std 0.12857074146450154\n",
      "mu mean 1158.52376534445 std 525.6166106757894\n",
      "lam mean 1079.2267163255265 std 479.5060801645777\n",
      "yield_stress mean 275.1555417591919 std 135.32208840297278\n",
      "---------------------------\n",
      "-----------------------------------------\n",
      "train iteration 799\n",
      "-----------------------------------------\n",
      "with parameter policy\n",
      "success 0.09886329443626705 std 0.1028688158953317\n",
      "mu mean 1079.030971919802 std 578.54784941825\n",
      "lam mean 1107.203194424642 std 462.61425116589186\n",
      "yield_stress mean 299.31161269137215 std 131.34885603109737\n",
      "---------------------------\n",
      "without parameter policy\n",
      "success 0.10325372540439867 std 0.1109229123983446\n",
      "mu mean 1079.030971919802 std 578.54784941825\n",
      "lam mean 1107.203194424642 std 462.61425116589186\n",
      "yield_stress mean 299.31161269137215 std 131.34885603109737\n",
      "---------------------------\n",
      "-----------------------------------------\n",
      "train iteration 849\n",
      "-----------------------------------------\n",
      "with parameter policy\n",
      "success 0.10320183812247978 std 0.09053355952247184\n",
      "mu mean 1027.5762442158434 std 514.0118922788685\n",
      "lam mean 1208.293471783327 std 536.4234280576437\n",
      "yield_stress mean 255.86985732933292 std 148.35868603096776\n",
      "---------------------------\n",
      "without parameter policy\n",
      "success 0.09703174863004149 std 0.0873109638278337\n",
      "mu mean 1027.5762442158434 std 514.0118922788685\n",
      "lam mean 1208.293471783327 std 536.4234280576437\n",
      "yield_stress mean 255.86985732933292 std 148.35868603096776\n",
      "---------------------------\n"
     ]
    }
   ],
   "source": [
    "for epoch in range(1000):\n",
    "\n",
    "    train_files = '/home/robot_dev3/kuroki/UniDOM/ExPCP/policy/data/Rope_10_500_10_500_10_500/2023-05-05_15-51'\n",
    "    para_list = glob.glob(f'/home/robot_dev3/kuroki/UniDOM/ExPCP/policy/log/Rollingpin_200_2000_200_2000_20_500/2023-05-14_01-42/para/2023-05-14_02-21/Rollingpin/{epoch}_last_iou*.txt')\n",
    "    not_para_list = glob.glob(f'/home/robot_dev3/kuroki/UniDOM/ExPCP/policy/log/Rollingpin_200_2000_200_2000_20_500/2023-05-14_01-42/no_para/2023-05-14_02-21/Rollingpin/{epoch}_last_iou*.txt')\n",
    "    if len(para_list) == len(not_para_list) and len(para_list) != 0:\n",
    "        print('-----------------------------------------')\n",
    "        print('train iteration', epoch)\n",
    "        print('-----------------------------------------')\n",
    "        \n",
    "\n",
    "        def info_iou(path_list):\n",
    "            length_list = []\n",
    "            mu_list = []\n",
    "            lam_list = []\n",
    "            yield_stress_list = []\n",
    "            success_flag = []\n",
    "            for path in path_list:\n",
    "                with open(path, 'r') as f:\n",
    "                    data = f.read()\n",
    "                data_split = data.split(',')\n",
    "                length_list.append(float(data_split[0]))\n",
    "                mu_list.append(float(data_split[1]))\n",
    "                lam_list.append(float(data_split[2]))\n",
    "                yield_stress_list.append(float(data_split[3]))\n",
    "\n",
    "            print('success', np.mean(length_list), 'std', np.std(length_list))\n",
    "            print('mu', 'mean', np.mean(mu_list), 'std', np.std(mu_list))\n",
    "            print('lam', 'mean', np.mean(lam_list), 'std', np.std(lam_list))\n",
    "            print('yield_stress', 'mean', np.mean(yield_stress_list), 'std', np.std(yield_stress_list))\n",
    "            print('---------------------------')\n",
    "            return length_list, mu_list, lam_list, yield_stress_list, success_flag\n",
    "\n",
    "        print('with parameter policy')\n",
    "        para_length_list, para_mu_list, para_lam_list, para_yield_stress_list, para_success_flag = info_iou(para_list)\n",
    "        print('without parameter policy')\n",
    "        length_list, mu_list, lam_list, yield_stress_list, success_flag = info_iou(not_para_list)"
   ]
  },
  {
   "cell_type": "code",
   "execution_count": 9,
   "id": "84a34e3f",
   "metadata": {},
   "outputs": [
    {
     "data": {
      "text/plain": [
       "[]"
      ]
     },
     "execution_count": 9,
     "metadata": {},
     "output_type": "execute_result"
    }
   ],
   "source": [
    "glob.glob(f'/home/robot_dev3/kuroki/UniDOM/ExPCP/policy/log/Rollingpin_200_2000_200_2000_20_500/2023-05-14_01-42/para/2023-05-14_03-00/Rollingpin/{epoch}_last_iou*.txt')"
   ]
  },
  {
   "cell_type": "code",
   "execution_count": null,
   "id": "3906a6cf",
   "metadata": {},
   "outputs": [],
   "source": [
    "/home/robot_dev3/kuroki/UniDOM/ExPCP/policy/log/Rollingpin_200_2000_200_2000_20_500/2023-05-14_01-42/para/2023-05-14_03-00/Rollingpin"
   ]
  },
  {
   "cell_type": "code",
   "execution_count": 10,
   "id": "982a7056",
   "metadata": {},
   "outputs": [
    {
     "data": {
      "text/plain": [
       "999"
      ]
     },
     "execution_count": 10,
     "metadata": {},
     "output_type": "execute_result"
    }
   ],
   "source": [
    "epoch"
   ]
  },
  {
   "cell_type": "code",
   "execution_count": null,
   "id": "83bd3f38",
   "metadata": {},
   "outputs": [],
   "source": []
  },
  {
   "cell_type": "code",
   "execution_count": 11,
   "id": "25578826",
   "metadata": {},
   "outputs": [],
   "source": [
    "import numpy as np\n",
    "import matplotlib.pyplot as plt\n"
   ]
  },
  {
   "cell_type": "code",
   "execution_count": 34,
   "id": "b60f6a6c",
   "metadata": {},
   "outputs": [
    {
     "data": {
      "text/plain": [
       "<matplotlib.collections.PathCollection at 0x7fd3fdccb310>"
      ]
     },
     "execution_count": 34,
     "metadata": {},
     "output_type": "execute_result"
    },
    {
     "data": {
      "image/png": "[encoded data removed]",
      "text/plain": [
       "<Figure size 432x288 with 1 Axes>"
      ]
     },
     "metadata": {
      "needs_background": "light"
     },
     "output_type": "display_data"
    }
   ],
   "source": [
    "aaa = np.load('/home/robot_dev3/kuroki/UniDOM/ExPCP/policy/pbm/plb/envs/assets/Rollingpin3D-v1.npy')\n",
    "array_list = []\n",
    "for i in range(64):\n",
    "    for j in range(64):\n",
    "        for k in range(64):\n",
    "            if aaa[i][j][k] > 0:\n",
    "                array_list.append(np.array([i, j, k]))\n",
    "array_list = np.array(array_list)\n",
    "plt.scatter(array_list[:, 1], array_list[:, 2])\n",
    "                "
   ]
  },
  {
   "cell_type": "code",
   "execution_count": 28,
   "id": "1db59907",
   "metadata": {},
   "outputs": [
    {
     "data": {
      "text/plain": [
       "<matplotlib.collections.PathCollection at 0x7fd400110fa0>"
      ]
     },
     "execution_count": 28,
     "metadata": {},
     "output_type": "execute_result"
    },
    {
     "data": {
      "image/png": "[encoded data removed]",
      "text/plain": [
       "<Figure size 432x288 with 1 Axes>"
      ]
     },
     "metadata": {
      "needs_background": "light"
     },
     "output_type": "display_data"
    }
   ],
   "source": [
    "bbb = np.load('/home/robot_dev3/kuroki/UniDOM/RL/policy/pbm/plb/envs/assets/Rollingpin3D-v1.npy')\n",
    "array_list = []\n",
    "for i in range(64):\n",
    "    for j in range(64):\n",
    "        for k in range(64):\n",
    "            if bbb[i][j][k] > 0:\n",
    "                array_list.append(np.array([i, j, k]))\n",
    "array_list = np.array(array_list)\n",
    "plt.scatter(array_list[:, 0], array_list[:, 1])"
   ]
  },
  {
   "cell_type": "code",
   "execution_count": 38,
   "id": "dccac178",
   "metadata": {},
   "outputs": [
    {
     "data": {
      "text/plain": [
       "array([0.00000000e+00, 0.00000000e+00, 0.00000000e+00, 0.00000000e+00,\n",
       "       0.00000000e+00, 0.00000000e+00, 0.00000000e+00, 0.00000000e+00,\n",
       "       0.00000000e+00, 0.00000000e+00, 0.00000000e+00, 0.00000000e+00,\n",
       "       0.00000000e+00, 0.00000000e+00, 0.00000000e+00, 0.00000000e+00,\n",
       "       1.80358644e-05, 2.22576241e-04, 3.37840179e-04, 3.21215498e-04,\n",
       "       3.51315474e-04, 3.03981853e-04, 3.50337338e-04, 3.87225094e-04,\n",
       "       3.63042413e-04, 3.93066489e-04, 3.83223729e-04, 3.65721012e-04,\n",
       "       3.68911652e-04, 3.38868850e-04, 3.41646093e-04, 3.48782089e-04,\n",
       "       3.86853808e-04, 3.60588349e-04, 3.61461094e-04, 3.68539212e-04,\n",
       "       3.70010392e-04, 3.58080567e-04, 4.07443760e-04, 4.18806279e-04,\n",
       "       4.12688158e-04, 4.10064986e-04, 3.71915248e-04, 3.25337184e-04,\n",
       "       3.29732303e-04, 2.94402402e-04, 2.25053578e-04, 3.24819682e-05,\n",
       "       3.78348570e-08, 0.00000000e+00, 0.00000000e+00, 0.00000000e+00,\n",
       "       0.00000000e+00, 0.00000000e+00, 0.00000000e+00, 0.00000000e+00,\n",
       "       0.00000000e+00, 0.00000000e+00, 0.00000000e+00, 0.00000000e+00,\n",
       "       0.00000000e+00, 0.00000000e+00, 0.00000000e+00, 0.00000000e+00])"
      ]
     },
     "execution_count": 38,
     "metadata": {},
     "output_type": "execute_result"
    }
   ],
   "source": [
    "aaa.max(axis=1).max(axis=1)"
   ]
  },
  {
   "cell_type": "code",
   "execution_count": 31,
   "id": "b569c223",
   "metadata": {},
   "outputs": [
    {
     "data": {
      "text/plain": [
       "array([0.00000000e+00, 0.00000000e+00, 0.00000000e+00, 0.00000000e+00,\n",
       "       0.00000000e+00, 0.00000000e+00, 0.00000000e+00, 0.00000000e+00,\n",
       "       0.00000000e+00, 0.00000000e+00, 0.00000000e+00, 0.00000000e+00,\n",
       "       0.00000000e+00, 0.00000000e+00, 0.00000000e+00, 0.00000000e+00,\n",
       "       0.00000000e+00, 0.00000000e+00, 0.00000000e+00, 9.12082562e-05,\n",
       "       9.67224719e-04, 1.48211162e-03, 1.52738763e-03, 1.42279599e-03,\n",
       "       1.36418494e-03, 1.34036376e-03, 1.39898652e-03, 1.51032645e-03,\n",
       "       1.36128917e-03, 1.39338057e-03, 1.37500313e-03, 1.35915642e-03,\n",
       "       1.25549661e-03, 1.39806631e-03, 1.35081361e-03, 1.42290008e-03,\n",
       "       1.37388149e-03, 1.36359329e-03, 1.45941035e-03, 1.53344344e-03,\n",
       "       1.37234897e-03, 1.44456632e-03, 1.48521889e-03, 1.31778259e-03,\n",
       "       9.14988003e-04, 8.33654311e-05, 0.00000000e+00, 0.00000000e+00,\n",
       "       0.00000000e+00, 0.00000000e+00, 0.00000000e+00, 0.00000000e+00,\n",
       "       0.00000000e+00, 0.00000000e+00, 0.00000000e+00, 0.00000000e+00,\n",
       "       0.00000000e+00, 0.00000000e+00, 0.00000000e+00, 0.00000000e+00,\n",
       "       0.00000000e+00, 0.00000000e+00, 0.00000000e+00, 0.00000000e+00])"
      ]
     },
     "execution_count": 31,
     "metadata": {},
     "output_type": "execute_result"
    }
   ],
   "source": [
    "bbb.max(axis=1).max(axis=1)\n"
   ]
  },
  {
   "cell_type": "code",
   "execution_count": 32,
   "id": "ab6d6597",
   "metadata": {},
   "outputs": [
    {
     "data": {
      "text/plain": [
       "array([0.00000000e+00, 0.00000000e+00, 0.00000000e+00, 0.00000000e+00,\n",
       "       0.00000000e+00, 0.00000000e+00, 0.00000000e+00, 0.00000000e+00,\n",
       "       0.00000000e+00, 0.00000000e+00, 0.00000000e+00, 0.00000000e+00,\n",
       "       0.00000000e+00, 0.00000000e+00, 0.00000000e+00, 0.00000000e+00,\n",
       "       1.80358644e-05, 2.22576241e-04, 3.37840179e-04, 3.21215498e-04,\n",
       "       3.51315474e-04, 3.03981853e-04, 3.50337338e-04, 3.87225094e-04,\n",
       "       3.63042413e-04, 3.93066489e-04, 3.83223729e-04, 3.65721012e-04,\n",
       "       3.68911652e-04, 3.38868850e-04, 3.41646093e-04, 3.48782089e-04,\n",
       "       3.86853808e-04, 3.60588349e-04, 3.61461094e-04, 3.68539212e-04,\n",
       "       3.70010392e-04, 3.58080567e-04, 4.07443760e-04, 4.18806279e-04,\n",
       "       4.12688158e-04, 4.10064986e-04, 3.71915248e-04, 3.25337184e-04,\n",
       "       3.29732303e-04, 2.94402402e-04, 2.25053578e-04, 3.24819682e-05,\n",
       "       3.78348570e-08, 0.00000000e+00, 0.00000000e+00, 0.00000000e+00,\n",
       "       0.00000000e+00, 0.00000000e+00, 0.00000000e+00, 0.00000000e+00,\n",
       "       0.00000000e+00, 0.00000000e+00, 0.00000000e+00, 0.00000000e+00,\n",
       "       0.00000000e+00, 0.00000000e+00, 0.00000000e+00, 0.00000000e+00])"
      ]
     },
     "execution_count": 32,
     "metadata": {},
     "output_type": "execute_result"
    }
   ],
   "source": [
    "aaa.max(axis=1).max(axis=1)"
   ]
  },
  {
   "cell_type": "code",
   "execution_count": null,
   "id": "ed6f2ea8",
   "metadata": {},
   "outputs": [],
   "source": []
  },
  {
   "cell_type": "code",
   "execution_count": null,
   "id": "d35ef710",
   "metadata": {},
   "outputs": [],
   "source": []
  },
  {
   "cell_type": "code",
   "execution_count": null,
   "id": "f59bde4e",
   "metadata": {},
   "outputs": [],
   "source": []
  },
  {
   "cell_type": "code",
   "execution_count": null,
   "id": "babc84ee",
   "metadata": {},
   "outputs": [],
   "source": []
  },
  {
   "cell_type": "code",
   "execution_count": null,
   "id": "90805e3a",
   "metadata": {},
   "outputs": [],
   "source": []
  }
 ],
 "metadata": {
  "kernelspec": {
   "display_name": "Python 3",
   "language": "python",
   "name": "python3"
  },
  "language_info": {
   "codemirror_mode": {
    "name": "ipython",
    "version": 3
   },
   "file_extension": ".py",
   "mimetype": "text/x-python",
   "name": "python",
   "nbconvert_exporter": "python",
   "pygments_lexer": "ipython3",
   "version": "3.8.10"
  },
  "vscode": {
   "interpreter": {
    "hash": "916dbcbb3f70747c44a77c7bcd40155683ae19c65e1c03b4aa3499c5328201f1"
   }
  }
 },
 "nbformat": 4,
 "nbformat_minor": 5
}
