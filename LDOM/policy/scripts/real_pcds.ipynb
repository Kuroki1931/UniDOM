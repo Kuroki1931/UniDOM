{
 "cells": [
  {
   "cell_type": "code",
   "execution_count": 41,
   "id": "8e660e76",
   "metadata": {},
   "outputs": [],
   "source": [
    "import io\n",
    "import cv2\n",
    "import numpy as np\n",
    "import pickle\n",
    "import matplotlib.pyplot as plt\n",
    "from mpl_toolkits.mplot3d import axes3d, Axes3D"
   ]
  },
  {
   "cell_type": "code",
   "execution_count": 55,
   "id": "249491ac",
   "metadata": {},
   "outputs": [],
   "source": [
    "pcds = np.load('/root/real2sim/real2sim/real_points/red/real_pcds.npy', allow_pickle=True)\n",
    "with open('/root/ExPCP/policy/pbm/experts/Move_1000_8000_1000_8000_500_2000/Move-v1/expert_0.0000_13:01:00.pickle', 'rb') as f:\n",
    "    pcds_sim = pickle.load(f)['plasticine_pc']"
   ]
  },
  {
   "cell_type": "code",
   "execution_count": null,
   "id": "bf69acef",
   "metadata": {},
   "outputs": [],
   "source": [
    "end_index = 150\n",
    "step = 0\n",
    "\n",
    "output_pcds = []\n",
    "for real, sim in zip(pcds[:end_index], pcds_sim[:end_index]):\n",
    "    real = real[:, [0, 2, 1]]\n",
    "    # size modify\n",
    "    real = (real - np.mean(real, axis=0)) * 2 + np.mean(real, axis=0)\n",
    "    # x modify\n",
    "    real[:, 0] = 2 - real[:, 0]\n",
    "    if step == 0:\n",
    "        real_x_min = np.max(real[:, 0])\n",
    "        sim_x_min = np.max(sim[:, 0])\n",
    "        x_diff = real_x_min - sim_x_min\n",
    "        real[:, 0] -= x_diff\n",
    "    else:\n",
    "        real[:, 0] -= x_diff\n",
    "    # y modify\n",
    "    if step == 0:\n",
    "        real_y_min = np.min(real[:, 1])\n",
    "        real[:, 1] -= real_y_min\n",
    "    else:\n",
    "        real[:, 1] -= real_y_min\n",
    "    # z modify\n",
    "    real[:, 2] += 0.5\n",
    "    # cut\n",
    "    real = real[real[:, 0] > 0.2]\n",
    "    real = real[real[:, 0] < 0.8]\n",
    "    real = real[real[:, 2] > 0.4]\n",
    "    real = real[real[:, 2] < 0.6]\n",
    "    output_pcds.append(real)\n",
    "    \n",
    "    fig = plt.figure()\n",
    "    ax1 = fig.add_subplot(1, 1, 1, projection='3d')\n",
    "    ax1.scatter(real[:, 0], real[:, 1], real[:, 2], s=1)\n",
    "    ax1.scatter(sim[:, 0], sim[:, 1], sim[:, 2], s=1)\n",
    "    ax1.view_init(90, 270)\n",
    "\n",
    "    ax1.set_xlim(0, 1)\n",
    "    ax1.set_ylim(0, 1)\n",
    "    ax1.set_zlim(0.4, 0.6)\n",
    "    ax1.set_xlabel('x')\n",
    "    ax1.set_ylabel('y')\n",
    "    ax1.set_zlabel('z')"
   ]
  },
  {
   "cell_type": "code",
   "execution_count": null,
   "id": "e1890734",
   "metadata": {},
   "outputs": [],
   "source": []
  }
 ],
 "metadata": {
  "kernelspec": {
   "display_name": "Python 3",
   "language": "python",
   "name": "python3"
  },
  "language_info": {
   "codemirror_mode": {
    "name": "ipython",
    "version": 3
   },
   "file_extension": ".py",
   "mimetype": "text/x-python",
   "name": "python",
   "nbconvert_exporter": "python",
   "pygments_lexer": "ipython3",
   "version": "3.8.10"
  },
  "vscode": {
   "interpreter": {
    "hash": "916dbcbb3f70747c44a77c7bcd40155683ae19c65e1c03b4aa3499c5328201f1"
   }
  }
 },
 "nbformat": 4,
 "nbformat_minor": 5
}
