{
 "cells": [
  {
   "cell_type": "code",
   "execution_count": 3,
   "id": "8e660e76",
   "metadata": {},
   "outputs": [],
   "source": [
    "import io\n",
    "import glob\n",
    "import numpy as np\n",
    "import matplotlib.pyplot as plt\n",
    "from mpl_toolkits.mplot3d import axes3d, Axes3D\n",
    "\n",
    "import numpy as np\n",
    "from scipy import stats \n",
    "from numpy.random import seed\n",
    "from numpy.random import randn\n",
    "from numpy.random import normal\n",
    "from scipy.stats import ttest_1samp"
   ]
  },
  {
   "cell_type": "code",
   "execution_count": 12,
   "id": "bb86348e",
   "metadata": {},
   "outputs": [],
   "source": [
    "para_list = glob.glob('/home/robot_dev4/kuroki/UniDOM/ExPCP/policy/log/2023-05-01_09-36/para/2023-05-02_07-42/model/evaluation/2023-05-02_12-05/Move/*/*.txt')\n",
    "not_para_list = glob.glob('/home/robot_dev4/kuroki/UniDOM/ExPCP/policy/log/2023-05-01_09-36/no_para/2023-05-02_06-22/model/evaluation/2023-05-02_12-05/Move/*/*.txt')"
   ]
  },
  {
   "cell_type": "code",
   "execution_count": 13,
   "id": "9b0aaa8d",
   "metadata": {},
   "outputs": [],
   "source": [
    "def info_iou(path_list):\n",
    "    iou_list = []\n",
    "    for path in path_list:\n",
    "        with open(path, 'r') as f:\n",
    "            iou = f.read()\n",
    "        iou_list.append(float(iou))\n",
    "    print('mean', np.mean(iou_list), 'std', np.std(iou_list))\n",
    "    return iou_list"
   ]
  },
  {
   "cell_type": "code",
   "execution_count": 14,
   "id": "79b56a0b",
   "metadata": {},
   "outputs": [
    {
     "name": "stdout",
     "output_type": "stream",
     "text": [
      "mean 0.36281314713831114 std 0.14610161349180686\n",
      "mean 0.3781253876734395 std 0.13421327695955235\n"
     ]
    }
   ],
   "source": [
    "para_iou_list = info_iou(para_list)\n",
    "not_para_iou_list = info_iou(not_para_list)"
   ]
  },
  {
   "cell_type": "code",
   "execution_count": 11,
   "id": "a3b32e4b",
   "metadata": {},
   "outputs": [
    {
     "data": {
      "text/plain": [
       "Ttest_indResult(statistic=-0.5402756423108601, pvalue=0.5902326833566476)"
      ]
     },
     "execution_count": 11,
     "metadata": {},
     "output_type": "execute_result"
    }
   ],
   "source": [
    "stats.ttest_ind(para_iou_list, not_para_iou_list)"
   ]
  },
  {
   "cell_type": "code",
   "execution_count": null,
   "id": "672863af",
   "metadata": {},
   "outputs": [],
   "source": []
  },
  {
   "cell_type": "code",
   "execution_count": null,
   "id": "c0d2f89e",
   "metadata": {},
   "outputs": [],
   "source": []
  },
  {
   "cell_type": "code",
   "execution_count": null,
   "id": "52836e1c",
   "metadata": {},
   "outputs": [],
   "source": []
  }
 ],
 "metadata": {
  "kernelspec": {
   "display_name": "Python 3",
   "language": "python",
   "name": "python3"
  },
  "language_info": {
   "codemirror_mode": {
    "name": "ipython",
    "version": 3
   },
   "file_extension": ".py",
   "mimetype": "text/x-python",
   "name": "python",
   "nbconvert_exporter": "python",
   "pygments_lexer": "ipython3",
   "version": "3.10.9"
  },
  "vscode": {
   "interpreter": {
    "hash": "916dbcbb3f70747c44a77c7bcd40155683ae19c65e1c03b4aa3499c5328201f1"
   }
  }
 },
 "nbformat": 4,
 "nbformat_minor": 5
}
