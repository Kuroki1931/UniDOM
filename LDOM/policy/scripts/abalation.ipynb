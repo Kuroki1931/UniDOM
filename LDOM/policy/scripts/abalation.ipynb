{
 "cells": [
  {
   "cell_type": "code",
   "execution_count": 3,
   "id": "8e660e76",
   "metadata": {},
   "outputs": [],
   "source": [
    "import io\n",
    "import numpy as np\n",
    "import pickle\n",
    "import matplotlib.pyplot as plt\n",
    "from mpl_toolkits.mplot3d import axes3d, Axes3D"
   ]
  },
  {
   "cell_type": "code",
   "execution_count": 8,
   "id": "249491ac",
   "metadata": {},
   "outputs": [],
   "source": [
    "def analyze_points(path, start, end):\n",
    "    dist_list = []\n",
    "    E_list = []\n",
    "    nu_list = []\n",
    "    for i in range(start, end):\n",
    "        with open(f'{path}/{i}.txt', 'rb') as f:\n",
    "            setting = f.readlines()[0].decode('utf8').rstrip()\n",
    "            setting = setting.split(',')\n",
    "            dist_list.append(np.abs(float(setting[0])))\n",
    "    dist_mean, dist_std = np.mean(dist_list), np.std(dist_list)\n",
    "    print(f'dist, {dist_mean:.4f}±{dist_std:.4f}')"
   ]
  },
  {
   "cell_type": "code",
   "execution_count": 9,
   "id": "c1e2e924",
   "metadata": {},
   "outputs": [
    {
     "name": "stdout",
     "output_type": "stream",
     "text": [
      "full--------------\n",
      "dist, 0.0266±0.0307\n",
      "E--------------\n",
      "dist, 0.0353±0.0445\n",
      "nu--------------\n",
      "dist, 0.0625±0.0534\n"
     ]
    }
   ],
   "source": [
    "print('full--------------')\n",
    "analyze_points('/home/robot_dev4/kuroki/UniDOM/ExPCP/policy/log/full_para/Torus_500_10500_0.2_0.4_200_200/2023-05-23_13-22/2023-05-23_14-06/evaluation', 10000000, 10000050)\n",
    "print('E--------------')\n",
    "analyze_points('/home/robot_dev4/kuroki/UniDOM/ExPCP/policy/log/E_para/Torus_500_10500_0.2_0.4_200_200/2023-05-23_14-11/2023-05-23_14-16/evaluation', 10000000, 10000050)\n",
    "print('nu--------------')\n",
    "analyze_points('/home/robot_dev4/kuroki/UniDOM/ExPCP/policy/log/nu_para/Torus_500_10500_0.2_0.4_200_200/2023-05-23_14-15/2023-05-23_14-24/evaluation', 10000000, 10000050)\n",
    "# print('no--------------')\n",
    "# analyze_points('/home/robot_dev4/kuroki/UniDOM/ExPCP/policy/log/nu_para/Torus_500_10500_0.2_0.4_200_200/2023-05-23_14-15/2023-05-23_14-24/evaluation', 10000000, 10000050)\n"
   ]
  },
  {
   "cell_type": "code",
   "execution_count": null,
   "id": "59ff84aa",
   "metadata": {},
   "outputs": [],
   "source": []
  }
 ],
 "metadata": {
  "kernelspec": {
   "display_name": "Python 3",
   "language": "python",
   "name": "python3"
  },
  "language_info": {
   "codemirror_mode": {
    "name": "ipython",
    "version": 3
   },
   "file_extension": ".py",
   "mimetype": "text/x-python",
   "name": "python",
   "nbconvert_exporter": "python",
   "pygments_lexer": "ipython3",
   "version": "3.10.9"
  },
  "vscode": {
   "interpreter": {
    "hash": "916dbcbb3f70747c44a77c7bcd40155683ae19c65e1c03b4aa3499c5328201f1"
   }
  }
 },
 "nbformat": 4,
 "nbformat_minor": 5
}
