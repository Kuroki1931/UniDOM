{
 "cells": [
  {
   "cell_type": "code",
   "execution_count": 2,
   "id": "8e660e76",
   "metadata": {},
   "outputs": [],
   "source": [
    "import io\n",
    "import cv2\n",
    "import numpy as np\n",
    "import matplotlib.pyplot as plt\n",
    "from mpl_toolkits.mplot3d import axes3d, Axes3D"
   ]
  },
  {
   "cell_type": "code",
   "execution_count": 1,
   "id": "bd142dba",
   "metadata": {},
   "outputs": [
    {
     "name": "stdout",
     "output_type": "stream",
     "text": [
      "Number of separate pink objects: 1\n"
     ]
    }
   ],
   "source": [
    "import cv2\n",
    "import numpy as np\n",
    "\n",
    "# Read image\n",
    "image = cv2.imread('/root/ExPCP/policy/pbm/output/Rope/Rope-v1/2023-05-03 10:26:05.843822/0.5_init.png')\n",
    "\n",
    "# Convert image to HSV color space\n",
    "hsv = cv2.cvtColor(image, cv2.COLOR_BGR2HSV)\n",
    "\n",
    "# Define pink color range in HSV\n",
    "lower_pink = np.array([140, 50, 50])\n",
    "upper_pink = np.array([170, 255, 255])\n",
    "\n",
    "# Create a mask for pink color\n",
    "mask = cv2.inRange(hsv, lower_pink, upper_pink)\n",
    "\n",
    "# # Apply morphological operations (erosion and dilation) to reduce noise and separate objects\n",
    "# kernel = np.ones((3, 3), np.uint8)\n",
    "# mask = cv2.erode(mask, kernel, iterations=2)\n",
    "# mask = cv2.dilate(mask, kernel, iterations=2)\n",
    "\n",
    "# Find contours in the masked image\n",
    "contours, _ = cv2.findContours(mask, cv2.RETR_EXTERNAL, cv2.CHAIN_APPROX_SIMPLE)\n",
    "\n",
    "# Count the number of contours\n",
    "num_pink_objects = len(contours)\n",
    "print('Number of separate pink objects:', num_pink_objects)\n",
    "\n",
    "result = image.copy()\n",
    "cv2.drawContours(result, contours, -1, (0, 255, 0), 2)\n",
    "\n",
    "# Visualize the original image, masked image, and the result image with contours\n",
    "cv2.imshow('Original Image', image)\n",
    "cv2.imshow('Masked Image', mask)\n",
    "cv2.imshow('Result Image with Contours', result)\n",
    "\n",
    "# Wait for a keypress and close the windows\n",
    "cv2.waitKey(0)\n",
    "cv2.destroyAllWindows()"
   ]
  },
  {
   "cell_type": "code",
   "execution_count": 3,
   "id": "639cd8f0",
   "metadata": {},
   "outputs": [],
   "source": [
    "image = cv2.imread('/root/ExPCP/policy/pbm/output/Rope/Rope-v1/2023-05-03 10:26:05.843822/0.5_init.png')"
   ]
  },
  {
   "cell_type": "code",
   "execution_count": 5,
   "id": "8776c8c2",
   "metadata": {},
   "outputs": [],
   "source": [
    "import numpy as np\n",
    "aaa = np.load('/root/ExPCP/policy/pbm/output/Rope/Rope-v39/2023-05-03 12:29:08.907094/action.npy')"
   ]
  },
  {
   "cell_type": "code",
   "execution_count": 6,
   "id": "1df995cb",
   "metadata": {},
   "outputs": [
    {
     "data": {
      "text/plain": [
       "array([[1.01796348, 0.97844001, 0.99505394],\n",
       "       [1.00240588, 1.03952582, 0.94687773],\n",
       "       [0.9831307 , 1.00990658, 1.07004353],\n",
       "       [1.02214736, 0.93861735, 1.0105044 ],\n",
       "       [1.03328405, 0.97158379, 1.01874436],\n",
       "       [1.00371249, 0.94343733, 0.87742386],\n",
       "       [1.0394055 , 0.90042429, 1.06922819],\n",
       "       [1.0233181 , 0.99585878, 0.87306096],\n",
       "       [1.0286588 , 0.9676799 , 1.00384459],\n",
       "       [1.00385262, 1.06174627, 0.98078452],\n",
       "       [1.00381347, 0.99524714, 0.97001407],\n",
       "       [1.00728656, 1.06015259, 0.97374897]])"
      ]
     },
     "execution_count": 6,
     "metadata": {},
     "output_type": "execute_result"
    }
   ],
   "source": [
    "aaa"
   ]
  },
  {
   "cell_type": "code",
   "execution_count": null,
   "id": "42d1903f",
   "metadata": {},
   "outputs": [],
   "source": []
  },
  {
   "cell_type": "code",
   "execution_count": null,
   "id": "2f5016c2",
   "metadata": {},
   "outputs": [],
   "source": []
  },
  {
   "cell_type": "code",
   "execution_count": null,
   "id": "e7dd83f3",
   "metadata": {},
   "outputs": [],
   "source": []
  },
  {
   "cell_type": "code",
   "execution_count": null,
   "id": "1e8dd1b4",
   "metadata": {},
   "outputs": [],
   "source": []
  },
  {
   "cell_type": "code",
   "execution_count": null,
   "id": "c6707b81",
   "metadata": {},
   "outputs": [],
   "source": []
  },
  {
   "cell_type": "code",
   "execution_count": 6,
   "id": "058e6850",
   "metadata": {},
   "outputs": [
    {
     "data": {
      "text/plain": [
       "array([[0.50997664, 0.03879384, 0.50368504],\n",
       "       [0.5117473 , 0.02685666, 0.50528342],\n",
       "       [0.49708852, 0.04585678, 0.52134318],\n",
       "       ...,\n",
       "       [0.49488252, 0.01705985, 0.51917652],\n",
       "       [0.49452207, 0.02836068, 0.47985514],\n",
       "       [0.45803829, 0.03825888, 0.52161857]])"
      ]
     },
     "execution_count": 6,
     "metadata": {},
     "output_type": "execute_result"
    }
   ],
   "source": [
    "rope_state"
   ]
  },
  {
   "cell_type": "code",
   "execution_count": null,
   "id": "a3abe70d",
   "metadata": {},
   "outputs": [],
   "source": []
  }
 ],
 "metadata": {
  "kernelspec": {
   "display_name": "Python 3",
   "language": "python",
   "name": "python3"
  },
  "language_info": {
   "codemirror_mode": {
    "name": "ipython",
    "version": 3
   },
   "file_extension": ".py",
   "mimetype": "text/x-python",
   "name": "python",
   "nbconvert_exporter": "python",
   "pygments_lexer": "ipython3",
   "version": "3.8.10"
  },
  "vscode": {
   "interpreter": {
    "hash": "916dbcbb3f70747c44a77c7bcd40155683ae19c65e1c03b4aa3499c5328201f1"
   }
  }
 },
 "nbformat": 4,
 "nbformat_minor": 5
}
