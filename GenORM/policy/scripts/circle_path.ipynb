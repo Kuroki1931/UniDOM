{
 "cells": [
  {
   "cell_type": "code",
   "execution_count": 3,
   "id": "8e660e76",
   "metadata": {},
   "outputs": [],
   "source": [
    "import io\n",
    "import cv2\n",
    "import numpy as np\n",
    "import matplotlib.pyplot as plt\n",
    "from mpl_toolkits.mplot3d import axes3d, Axes3D\n",
    "\n",
    "import numpy as np\n",
    "import random\n",
    "import math\n",
    "import copy\n",
    "import matplotlib.pyplot as plt\n",
    "from mpl_toolkits.mplot3d import Axes3D"
   ]
  },
  {
   "cell_type": "code",
   "execution_count": 23,
   "id": "295db8e6",
   "metadata": {},
   "outputs": [
    {
     "data": {
      "image/png": "[encoded data removed]",
      "text/plain": [
       "<Figure size 640x480 with 1 Axes>"
      ]
     },
     "metadata": {},
     "output_type": "display_data"
    }
   ],
   "source": [
    "# Define the range of the initial state of the rope\n",
    "start = (0.2, 0.5)\n",
    "goal = (0.75, 0.5)\n",
    "\n",
    "obstacle = (0.5, 0.5)\n",
    "radius = 0.1\n",
    "\n",
    "move_base = 0.003\n",
    "\n",
    "def closest_tangent_point(point, direction='right'):\n",
    "    angle_radians = math.radians(0)\n",
    "    X = obstacle[0]\n",
    "    Y = obstacle[1]\n",
    "    # tarngent pos\n",
    "    x = point[0]\n",
    "    y = point[1]\n",
    "\n",
    "    distance = math.sqrt((X - x)**2 + (Y - y)**2)\n",
    "    theta = math.acos(radius / distance)\n",
    "    theta_a = math.pi/2 - theta\n",
    "    d = math.sqrt(distance**2 - radius**2)\n",
    "    if direction == 'right':\n",
    "        theta_b = angle_radians - theta_a\n",
    "        T1_x = x + d * math.cos(theta_b)\n",
    "        T1_y = y + d * math.sin(theta_b)\n",
    "    else:\n",
    "        theta_b = angle_radians + theta_a\n",
    "        T1_x = x - d * math.cos(theta_b)\n",
    "        T1_y = y - d * math.sin(theta_b)\n",
    "    length = math.sqrt((T1_x-point[0])**2+(T1_y-point[1])**2)\n",
    "    num_points = int(length / move_base)\n",
    "    \n",
    "    if T1_x > x:\n",
    "        points_list = [point]\n",
    "        x = point[0]\n",
    "        y = point[1]\n",
    "        dx = (T1_x - point[0])/num_points\n",
    "        dy = (T1_y - point[1])/num_points\n",
    "        for _ in range(num_points):\n",
    "            x += dx\n",
    "            y += dy\n",
    "            points_list.append((x, y))\n",
    "    else:\n",
    "        points_list = []\n",
    "        x = copy.copy(T1_x)\n",
    "        y = copy.copy(T1_y)\n",
    "        dx = (point[0] - T1_x)/num_points\n",
    "        dy = (point[1] - T1_y)/num_points\n",
    "        for _ in range(num_points):\n",
    "            x += dx\n",
    "            y += dy\n",
    "            points_list.append((x, y))\n",
    "\n",
    "    return (T1_x, T1_y), points_list\n",
    "\n",
    "def on_circle(start_tangent_point, goal_tangent_point):\n",
    "    angle1 = math.atan2(start_tangent_point[1] - obstacle[1], start_tangent_point[0] - obstacle[0])\n",
    "    angle2 = math.atan2(goal_tangent_point[1] - obstacle[1], goal_tangent_point[0] - obstacle[0])\n",
    "    delta_angle = angle2 - angle1\n",
    "\n",
    "    if abs(delta_angle) > math.pi:\n",
    "        delta_angle += math.copysign(2 * math.pi, -delta_angle)\n",
    "    \n",
    "    if delta_angle > 0 and obstacle[1] < 0.5:\n",
    "        delta_angle -= 2 * math.pi\n",
    "    if delta_angle < 0 and obstacle[1] > 0.5:\n",
    "        delta_angle += 2 * math.pi\n",
    "    \n",
    "    arc_length = abs(radius * delta_angle)\n",
    "    points_num = int(arc_length / move_base)\n",
    "    points_on_arc = []\n",
    "\n",
    "    for t in np.linspace(0, delta_angle, points_num):\n",
    "        x_on_arc = obstacle[0] + radius * math.cos(angle1 + t)\n",
    "        y_on_arc = obstacle[1] + radius * math.sin(angle1 + t)\n",
    "        points_on_arc.append((x_on_arc, y_on_arc))\n",
    "    return points_on_arc, arc_length\n",
    "\n",
    "def visualize_goal_state(start_tangent_point, goal_tangent_point, start_points_list):\n",
    "    fig = plt.figure()\n",
    "    ax = fig.add_subplot(111)\n",
    "\n",
    "    # Visualize the sampled point and the circle\n",
    "    theta = np.linspace(-math.pi, math.pi, 100)\n",
    "    circle_x = obstacle[0] + radius * np.cos(theta)\n",
    "    circle_y = obstacle[1] + radius * np.sin(theta)\n",
    "    plt.plot(circle_x, circle_y, label='Circle')\n",
    "    ax.scatter(start_tangent_point[0], start_tangent_point[1])\n",
    "    ax.scatter(goal_tangent_point[0], goal_tangent_point[1])\n",
    "\n",
    "    ax.scatter(start[0], start[1], c='blue', label='start')\n",
    "    ax.scatter(goal[0], goal[1], c='green', label='goal')\n",
    "\n",
    "    for point in start_points_list:\n",
    "        ax.scatter(point[0], point[1])\n",
    "\n",
    "    ax.set_xlabel('X')\n",
    "    ax.set_ylabel('Y')\n",
    "    ax.set_xlim(0., 1)\n",
    "    ax.set_ylim(0., 1)\n",
    "\n",
    "    plt.legend()\n",
    "    plt.show()\n",
    "\n",
    "start_tangent_point, start_points_list = closest_tangent_point(start)\n",
    "goal_tangent_point, goal_points_list = closest_tangent_point(goal, 'left')\n",
    "points_on_arc, arc_length = on_circle(start_tangent_point, goal_tangent_point)\n",
    "start_points_list.extend(points_on_arc)\n",
    "start_points_list.extend(goal_points_list)\n",
    "points_path = np.array(start_points_list)\n",
    "# up_move = np.array([[0, 0.5, 0]]*5)\n",
    "actions = np.diff(points_path, axis=0)\n",
    "actions = np.insert(actions, 1, 0, axis=1)\n",
    "# actions = np.concatenate([up_move, actions])\n",
    "np.save('/root/ExPCP/policy/pbm/output/pinch_actions/actions.npy', actions)\n",
    "\n",
    "visualize_goal_state(start_tangent_point, goal_tangent_point, start_points_list)\n"
   ]
  },
  {
   "cell_type": "code",
   "execution_count": 24,
   "id": "0ff02a87",
   "metadata": {},
   "outputs": [
    {
     "data": {
      "text/plain": [
       "(195, 3)"
      ]
     },
     "execution_count": 24,
     "metadata": {},
     "output_type": "execute_result"
    }
   ],
   "source": [
    "actions.shape"
   ]
  },
  {
   "cell_type": "code",
   "execution_count": 17,
   "id": "7906ab04",
   "metadata": {},
   "outputs": [
    {
     "data": {
      "text/plain": [
       "array([[ 0.00000000e+00,  5.00000000e-01,  0.00000000e+00],\n",
       "       [ 0.00000000e+00,  5.00000000e-01,  0.00000000e+00],\n",
       "       [ 0.00000000e+00,  5.00000000e-01,  0.00000000e+00],\n",
       "       [ 0.00000000e+00,  5.00000000e-01,  0.00000000e+00],\n",
       "       [ 0.00000000e+00,  5.00000000e-01,  0.00000000e+00],\n",
       "       [ 1.90476190e-02,  0.00000000e+00, -6.73435030e-03],\n",
       "       [ 1.90476190e-02,  0.00000000e+00, -6.73435030e-03],\n",
       "       [ 1.90476190e-02,  0.00000000e+00, -6.73435030e-03],\n",
       "       [ 1.90476190e-02,  0.00000000e+00, -6.73435030e-03],\n",
       "       [ 1.90476190e-02,  0.00000000e+00, -6.73435030e-03],\n",
       "       [ 1.90476190e-02,  0.00000000e+00, -6.73435030e-03],\n",
       "       [ 1.90476190e-02,  0.00000000e+00, -6.73435030e-03],\n",
       "       [ 1.90476190e-02,  0.00000000e+00, -6.73435030e-03],\n",
       "       [ 1.90476190e-02,  0.00000000e+00, -6.73435030e-03],\n",
       "       [ 1.90476190e-02,  0.00000000e+00, -6.73435030e-03],\n",
       "       [ 1.90476190e-02,  0.00000000e+00, -6.73435030e-03],\n",
       "       [ 1.90476190e-02,  0.00000000e+00, -6.73435030e-03],\n",
       "       [ 1.90476190e-02,  0.00000000e+00, -6.73435030e-03],\n",
       "       [ 1.90476190e-02,  0.00000000e+00, -6.73435030e-03],\n",
       "       [ 1.66533454e-16,  0.00000000e+00,  1.11022302e-16],\n",
       "       [ 3.69165629e-02,  0.00000000e+00, -5.65487755e-03],\n",
       "       [ 3.64167704e-02,  0.00000000e+00,  8.28426781e-03],\n",
       "       [ 1.90909091e-02,  0.00000000e+00,  8.33195581e-03],\n",
       "       [ 1.90909091e-02,  0.00000000e+00,  8.33195581e-03],\n",
       "       [ 1.90909091e-02,  0.00000000e+00,  8.33195581e-03],\n",
       "       [ 1.90909091e-02,  0.00000000e+00,  8.33195581e-03],\n",
       "       [ 1.90909091e-02,  0.00000000e+00,  8.33195581e-03],\n",
       "       [ 1.90909091e-02,  0.00000000e+00,  8.33195581e-03],\n",
       "       [ 1.90909091e-02,  0.00000000e+00,  8.33195581e-03],\n",
       "       [ 1.90909091e-02,  0.00000000e+00,  8.33195581e-03],\n",
       "       [ 1.90909091e-02,  0.00000000e+00,  8.33195581e-03],\n",
       "       [ 1.90909091e-02,  0.00000000e+00,  8.33195581e-03],\n",
       "       [ 1.90909091e-02,  0.00000000e+00,  8.33195581e-03]])"
      ]
     },
     "execution_count": 17,
     "metadata": {},
     "output_type": "execute_result"
    }
   ],
   "source": [
    "actions"
   ]
  },
  {
   "cell_type": "code",
   "execution_count": 123,
   "id": "77998256",
   "metadata": {},
   "outputs": [
    {
     "data": {
      "text/plain": [
       "(28, 2)"
      ]
     },
     "execution_count": 123,
     "metadata": {},
     "output_type": "execute_result"
    }
   ],
   "source": [
    "actions.shape"
   ]
  },
  {
   "cell_type": "code",
   "execution_count": 67,
   "id": "1b62fbc5",
   "metadata": {},
   "outputs": [
    {
     "data": {
      "text/plain": [
       "0.08230336921349768"
      ]
     },
     "execution_count": 67,
     "metadata": {},
     "output_type": "execute_result"
    }
   ],
   "source": [
    "arc_length"
   ]
  },
  {
   "cell_type": "code",
   "execution_count": null,
   "id": "9a11c332",
   "metadata": {},
   "outputs": [],
   "source": []
  },
  {
   "cell_type": "code",
   "execution_count": null,
   "id": "27746af2",
   "metadata": {},
   "outputs": [],
   "source": []
  }
 ],
 "metadata": {
  "kernelspec": {
   "display_name": "Python 3",
   "language": "python",
   "name": "python3"
  },
  "language_info": {
   "codemirror_mode": {
    "name": "ipython",
    "version": 3
   },
   "file_extension": ".py",
   "mimetype": "text/x-python",
   "name": "python",
   "nbconvert_exporter": "python",
   "pygments_lexer": "ipython3",
   "version": "3.8.10"
  },
  "vscode": {
   "interpreter": {
    "hash": "916dbcbb3f70747c44a77c7bcd40155683ae19c65e1c03b4aa3499c5328201f1"
   }
  }
 },
 "nbformat": 4,
 "nbformat_minor": 5
}
