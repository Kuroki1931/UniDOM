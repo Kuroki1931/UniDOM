{
 "cells": [
  {
   "cell_type": "code",
   "execution_count": 408,
   "id": "8e660e76",
   "metadata": {},
   "outputs": [],
   "source": [
    "import io\n",
    "import cv2\n",
    "import numpy as np\n",
    "import pickle\n",
    "import matplotlib.pyplot as plt\n",
    "from mpl_toolkits.mplot3d import axes3d, Axes3D"
   ]
  },
  {
   "cell_type": "code",
   "execution_count": 410,
   "id": "79fe6886",
   "metadata": {},
   "outputs": [],
   "source": [
    "real = np.load('/root/PlasticineLab/real2sim/real_points/cloth/black/real_pcds.npy', allow_pickle=True)\n",
    "with open('/root/GenORM/policy/pbm/experts/Table_1500_1500_0.36_0.36_200_200/Table-v1/expert_0.0025_09:31:14.pickle', 'rb') as f:\n",
    "    sim = pickle.load(f)\n",
    "    sim = sim['plasticine_pc']"
   ]
  },
  {
   "cell_type": "code",
   "execution_count": 411,
   "id": "a0ac6969",
   "metadata": {},
   "outputs": [
    {
     "name": "stderr",
     "output_type": "stream",
     "text": [
      "/usr/local/lib/python3.8/dist-packages/numpy/lib/npyio.py:501: VisibleDeprecationWarning: Creating an ndarray from ragged nested sequences (which is a list-or-tuple of lists-or-tuples-or ndarrays with different lengths or shapes) is deprecated. If you meant to do this, you must specify 'dtype=object' when creating the ndarray.\n",
      "  arr = np.asanyarray(arr)\n"
     ]
    }
   ],
   "source": [
    "def rotate_point_cloud_around_center(point_cloud, angle_degrees):\n",
    "    # Calculate the centroid of the point cloud\n",
    "    centroid = np.mean(point_cloud, axis=0)\n",
    "\n",
    "    # Translate the point cloud to the origin\n",
    "    translated_cloud = point_cloud - centroid\n",
    "\n",
    "    # Rotation matrix for rotation around y-axis\n",
    "    cos_angle = np.cos(np.radians(angle_degrees))\n",
    "    sin_angle = np.sin(np.radians(angle_degrees))\n",
    "    rotation_matrix = np.array([[cos_angle,  0, sin_angle],\n",
    "                                [0,         1, 0],\n",
    "                                [-sin_angle, 0, cos_angle]])\n",
    "\n",
    "    # Rotate the translated point cloud\n",
    "    rotated_translated_cloud = np.dot(translated_cloud, rotation_matrix.T)\n",
    "\n",
    "    # Translate back to the original position\n",
    "    rotated_cloud = rotated_translated_cloud + centroid\n",
    "\n",
    "    return rotated_cloud\n",
    "\n",
    "for i in range(real.shape[0]):\n",
    "    real[i] = real[i]*2\n",
    "    \n",
    "    rotation_matrix = np.array([[1,  0,  0],\n",
    "                                [0,  0, 1],\n",
    "                                [0,  1,  0]])\n",
    "    real[i] = np.dot(real[i], rotation_matrix.T)\n",
    "    \n",
    "    mean_offset = sim[i].mean(axis=0) - real[i].mean(axis=0)\n",
    "    real[i] += mean_offset\n",
    "    \n",
    "    real[i] = rotate_point_cloud_around_center(real[i], -140)\n",
    "    \n",
    "    if real[i].shape[0] > 5000:\n",
    "        real[i] = real[i-1]\n",
    "\n",
    "real = [arr[~np.any(arr > 0.97, axis=1)] for arr in real]\n",
    "# real = [arr[~np.any(arr < 0.01, axis=1)] for arr in real]\n",
    "np.save('/root/PlasticineLab/real2sim/real_points/cloth/black/modified_real_pcds.npy', real)"
   ]
  },
  {
   "cell_type": "code",
   "execution_count": null,
   "id": "ab819ffb",
   "metadata": {},
   "outputs": [],
   "source": []
  },
  {
   "cell_type": "code",
   "execution_count": null,
   "id": "df770a8c",
   "metadata": {},
   "outputs": [],
   "source": [
    "# real[6][:, [0, 1, 2]] = real[6][:, [0, 2, 1]]\n",
    "# real[26][:, [0, 1, 2]] = real[26][:, [0, 2, 1]]\n",
    "\n",
    "plt.rcParams['font.size'] = 7\n",
    "vis_index = 150\n",
    "count = 0\n",
    "for real_pcds, sim_pcds in zip(real[:vis_index], sim[:vis_index]):\n",
    "    fig = plt.figure(figsize=(15, 5))\n",
    "    ax1 = fig.add_subplot(1, 3, 1, projection='3d')\n",
    "    ax1.view_init(140, -90)\n",
    "    ax1.set_xlabel('X Label')\n",
    "    ax1.set_ylabel('Y Label')\n",
    "    ax1.set_zlabel('Z Label')\n",
    "    ax1.set_xlim([0.2, 0.8])\n",
    "    ax1.set_ylim([0, 0.8])\n",
    "    ax1.set_zlim([0.2, 0.8])\n",
    "    ax1.set_title(f'{count}th real')\n",
    "    ax1.scatter(real_pcds[:, 0], real_pcds[:, 1], real_pcds[:, 2], s=1)\n",
    "    ax1.scatter(sim_pcds[:, 0], sim_pcds[:, 1], sim_pcds[:, 2], s=1)\n",
    "    \n",
    "    count += 1"
   ]
  },
  {
   "cell_type": "code",
   "execution_count": null,
   "id": "76c59fb6",
   "metadata": {},
   "outputs": [
    {
     "data": {
      "text/plain": [
       "(638, 3)"
      ]
     },
     "execution_count": 359,
     "metadata": {},
     "output_type": "execute_result"
    }
   ],
   "source": [
    "real_pcds.shape"
   ]
  },
  {
   "cell_type": "code",
   "execution_count": null,
   "id": "138a2ef9",
   "metadata": {},
   "outputs": [
    {
     "data": {
      "text/plain": [
       "(637, 3)"
      ]
     },
     "execution_count": 360,
     "metadata": {},
     "output_type": "execute_result"
    }
   ],
   "source": [
    "real[0].shape"
   ]
  },
  {
   "cell_type": "code",
   "execution_count": null,
   "id": "e4106d6a",
   "metadata": {},
   "outputs": [],
   "source": []
  },
  {
   "cell_type": "code",
   "execution_count": null,
   "id": "d0f41075",
   "metadata": {},
   "outputs": [],
   "source": []
  },
  {
   "cell_type": "code",
   "execution_count": null,
   "id": "731861f6",
   "metadata": {},
   "outputs": [],
   "source": []
  },
  {
   "cell_type": "code",
   "execution_count": null,
   "id": "601d8a83",
   "metadata": {},
   "outputs": [],
   "source": []
  },
  {
   "cell_type": "code",
   "execution_count": null,
   "metadata": {},
   "outputs": [],
   "source": []
  },
  {
   "cell_type": "code",
   "execution_count": null,
   "metadata": {},
   "outputs": [],
   "source": []
  },
  {
   "cell_type": "code",
   "execution_count": null,
   "metadata": {},
   "outputs": [],
   "source": []
  },
  {
   "cell_type": "code",
   "execution_count": null,
   "metadata": {},
   "outputs": [],
   "source": []
  },
  {
   "cell_type": "code",
   "execution_count": null,
   "metadata": {},
   "outputs": [],
   "source": []
  },
  {
   "cell_type": "code",
   "execution_count": null,
   "metadata": {},
   "outputs": [],
   "source": []
  },
  {
   "cell_type": "code",
   "execution_count": null,
   "metadata": {},
   "outputs": [],
   "source": []
  },
  {
   "cell_type": "code",
   "execution_count": null,
   "id": "e04071c4",
   "metadata": {},
   "outputs": [],
   "source": []
  }
 ],
 "metadata": {
  "kernelspec": {
   "display_name": "Python 3",
   "language": "python",
   "name": "python3"
  },
  "language_info": {
   "codemirror_mode": {
    "name": "ipython",
    "version": 3
   },
   "file_extension": ".py",
   "mimetype": "text/x-python",
   "name": "python",
   "nbconvert_exporter": "python",
   "pygments_lexer": "ipython3",
   "version": "3.8.10"
  },
  "vscode": {
   "interpreter": {
    "hash": "916dbcbb3f70747c44a77c7bcd40155683ae19c65e1c03b4aa3499c5328201f1"
   }
  }
 },
 "nbformat": 4,
 "nbformat_minor": 5
}
