{
 "cells": [
  {
   "cell_type": "code",
   "execution_count": 168,
   "id": "8e660e76",
   "metadata": {},
   "outputs": [],
   "source": [
    "import io\n",
    "import cv2\n",
    "import numpy as np\n",
    "import matplotlib.pyplot as plt\n",
    "from mpl_toolkits.mplot3d import axes3d, Axes3D"
   ]
  },
  {
   "cell_type": "code",
   "execution_count": 221,
   "id": "63bc5696",
   "metadata": {},
   "outputs": [],
   "source": [
    "aaa = np.load('/root/real2sim/real2sim/output/Move-v1/2023-04-16 23:26:24.005378/parameters.npy')"
   ]
  },
  {
   "cell_type": "code",
   "execution_count": 228,
   "id": "bc4be90b",
   "metadata": {},
   "outputs": [],
   "source": [
    "def plot_(aaa, ylabel):\n",
    "    fig = plt.figure()\n",
    "    aaa_list = []\n",
    "    for a in aaa:\n",
    "        aaa_list.append(a)\n",
    "    plt.plot(aaa_list)\n",
    "    plt.xlabel('iteration', fontsize=18)\n",
    "    plt.ylabel(ylabel, fontsize=18)\n",
    "    "
   ]
  },
  {
   "cell_type": "code",
   "execution_count": null,
   "id": "1fc1bb93",
   "metadata": {},
   "outputs": [],
   "source": [
    "para = np.load('/root/real2sim/real2sim/output/Move-v1/2023-04-16 23:26:24.005378/parameters.npy')\n",
    "plot_(para[:, 0], 'mu')\n",
    "plot_(para[:, 1], 'lam')\n",
    "plot_(para[:, 2], 'yield_stress')"
   ]
  },
  {
   "cell_type": "code",
   "execution_count": null,
   "id": "9a3572b2",
   "metadata": {},
   "outputs": [],
   "source": [
    "target_grids = np.load('/root/real2sim/sim2sim/test/fric_1.5/expert_0.0383_12:11:54_grid_mass.npy')\n",
    "for i in range(target_grids.shape[0]):\n",
    "    target_grid = target_grids[i]\n",
    "    position_list = []\n",
    "    for x in range(target_grid.shape[0]):\n",
    "        for y in range(target_grid.shape[1]):\n",
    "            for z in range(target_grid.shape[2]):\n",
    "                if target_grid[x][y][z] > 0:\n",
    "                    position_list.append([x/64, y/64, z/64])\n",
    "    position = np.array(position_list)\n",
    "    fig = plt.figure()\n",
    "    ax1 = fig.add_subplot(1, 1, 1, projection='3d')\n",
    "    ax1.scatter(position[:, 0], position[:, 2], position[:, 1], s=1)\n",
    "    ax1.view_init(30, 60)\n",
    "    ax1.set_xlim(0, 1)\n",
    "    ax1.set_ylim(0, 1)\n",
    "    ax1.set_zlim(0, 1)"
   ]
  },
  {
   "cell_type": "code",
   "execution_count": null,
   "id": "4e375cb1",
   "metadata": {},
   "outputs": [],
   "source": []
  },
  {
   "cell_type": "code",
   "execution_count": 212,
   "id": "9c3009b0",
   "metadata": {},
   "outputs": [
    {
     "name": "stdout",
     "output_type": "stream",
     "text": [
      "114 114 114\n"
     ]
    }
   ],
   "source": [
    "real = np.load('/root/real2sim/real2sim/points/real_pcds.npy', allow_pickle=True)\n",
    "sim = np.load('/root/real2sim/real2sim/points/sim_pcds.npy', allow_pickle=True)\n",
    "action = np.load('/root/real2sim/real2sim/points/action.npy', allow_pickle=True)\n",
    "print(len(real), len(sim), len(action))"
   ]
  },
  {
   "cell_type": "code",
   "execution_count": null,
   "id": "b58bc081",
   "metadata": {},
   "outputs": [],
   "source": [
    "z_scale = 0.2\n",
    "for i in range(80):\n",
    "    fig = plt.figure(figsize=(15, 5))\n",
    "    plt.title(f'step{i}')\n",
    "    sim_pcd = sim[i]\n",
    "    ax1 = fig.add_subplot(1, 3, 1, projection='3d')\n",
    "    ax1.scatter(sim_pcd[:, 0], sim_pcd[:, 2], sim_pcd[:, 1], s=1)\n",
    "    ax1.view_init(30, 60)\n",
    "    ax1.set_zlim(0, z_scale)\n",
    "    max_sim_pcd = sim_pcd.max(axis=0)\n",
    "\n",
    "    real_pcd = real[i]\n",
    "    ax2 = fig.add_subplot(1, 3, 2, projection='3d')\n",
    "    ax2.scatter(np.clip(real_pcd[:, 0], 0, max_sim_pcd[0]), np.clip(real_pcd[:, 2], 0, max_sim_pcd[2]), np.clip(real_pcd[:, 1], 0, max_sim_pcd[1]), s=1)\n",
    "    ax2.view_init(30, 60)\n",
    "    ax2.set_zlim(0, z_scale)\n",
    "\n",
    "    ax3 = fig.add_subplot(1, 3, 3, projection='3d')\n",
    "    ax3.scatter(real_pcd[:, 0], real_pcd[:, 2], real_pcd[:, 1], s=1)\n",
    "    ax3.view_init(30, 60)\n",
    "    ax3.set_zlim(0, z_scale)\n",
    "    "
   ]
  },
  {
   "cell_type": "code",
   "execution_count": null,
   "id": "95d7dafe",
   "metadata": {},
   "outputs": [],
   "source": [
    "frame = 50\n",
    "for i in range(0, 360, 45):\n",
    "    fig = plt.figure(figsize=(15, 5))\n",
    "    sim_pcd = sim[frame]\n",
    "    ax1 = fig.add_subplot(1, 3, 1, projection='3d')\n",
    "    ax1.scatter(sim_pcd[:, 0], sim_pcd[:, 2], sim_pcd[:, 1], s=1)\n",
    "    ax1.view_init(30, 60)\n",
    "    ax1.set_zlim(0, z_scale)\n",
    "    max_sim_pcd = sim_pcd.max(axis=0)\n",
    "\n",
    "    real_pcd = real[frame]\n",
    "    ax1.scatter(np.clip(real_pcd[:, 0], 0, max_sim_pcd[0]), np.clip(real_pcd[:, 2], 0, max_sim_pcd[2]), np.clip(real_pcd[:, 1], 0, max_sim_pcd[1]), s=1)\n",
    "    ax1.view_init(30, 60)\n",
    "    ax1.set_zlim(0, z_scale)\n",
    "\n",
    "\n",
    "    ax1.view_init(None, i)\n",
    "        "
   ]
  },
  {
   "cell_type": "code",
   "execution_count": null,
   "id": "19c08886",
   "metadata": {},
   "outputs": [],
   "source": [
    "z_scale = 0.2\n",
    "for i in range(160):\n",
    "    fig = plt.figure(figsize=(15, 5))\n",
    "    plt.title(f'step{i}')\n",
    "    sim_pcd = sim[i]\n",
    "    ax1 = fig.add_subplot(1, 3, 1, projection='3d')\n",
    "    ax1.scatter(sim_pcd[:, 0], sim_pcd[:, 2], sim_pcd[:, 1], s=1)\n",
    "    ax1.view_init(30, 60)\n",
    "    ax1.set_zlim(0, z_scale)\n",
    "    max_sim_pcd = sim_pcd.max(axis=0)\n",
    "\n",
    "    real_pcd = real[i]\n",
    "    ax1.scatter(np.clip(real_pcd[:, 0], 0, max_sim_pcd[0]), np.clip(real_pcd[:, 2], 0, max_sim_pcd[2]), np.clip(real_pcd[:, 1], 0, max_sim_pcd[1]), s=1)\n",
    "    ax1.view_init(30, 60)\n",
    "    ax1.set_zlim(0, z_scale)\n",
    "\n",
    "    sim_pcd = sim[i]\n",
    "    ax2 = fig.add_subplot(1, 3, 2, projection='3d')\n",
    "    ax2.scatter(sim_pcd[:, 0], sim_pcd[:, 2], sim_pcd[:, 1], s=1)\n",
    "    ax2.view_init(100, 60)\n",
    "    ax2.set_zlim(0, z_scale)\n",
    "    max_sim_pcd = sim_pcd.max(axis=0)\n",
    "\n",
    "    real_pcd = real[i]\n",
    "    ax2.scatter(np.clip(real_pcd[:, 0], 0, max_sim_pcd[0]), np.clip(real_pcd[:, 2], 0, max_sim_pcd[2]), np.clip(real_pcd[:, 1], 0, max_sim_pcd[1]), s=1)\n",
    "    ax2.view_init(100, 60)\n",
    "    ax2.set_zlim(0, z_scale)\n",
    "\n",
    "    sim_pcd = sim[i]\n",
    "    ax3 = fig.add_subplot(1, 3, 3, projection='3d')\n",
    "    ax3.scatter(sim_pcd[:, 0], sim_pcd[:, 2], sim_pcd[:, 1], s=1)\n",
    "    ax3.view_init(0, 180)\n",
    "    ax3.set_zlim(0, z_scale)\n",
    "    max_sim_pcd = sim_pcd.max(axis=0)\n",
    "\n",
    "    real_pcd = real[i]\n",
    "    ax3.scatter(np.clip(real_pcd[:, 0], 0, max_sim_pcd[0]), np.clip(real_pcd[:, 2], 0, max_sim_pcd[2]), np.clip(real_pcd[:, 1], 0, max_sim_pcd[1]), s=1)\n",
    "    ax3.view_init(0, 180)\n",
    "    ax3.set_zlim(0, z_scale)"
   ]
  },
  {
   "cell_type": "code",
   "execution_count": null,
   "id": "8ffc393e",
   "metadata": {},
   "outputs": [],
   "source": []
  },
  {
   "cell_type": "code",
   "execution_count": null,
   "id": "e878e868",
   "metadata": {},
   "outputs": [],
   "source": [
    "import numpy as np"
   ]
  },
  {
   "cell_type": "code",
   "execution_count": null,
   "id": "3447e7a7",
   "metadata": {},
   "outputs": [],
   "source": []
  },
  {
   "cell_type": "code",
   "execution_count": null,
   "id": "6fde235c",
   "metadata": {},
   "outputs": [],
   "source": []
  },
  {
   "cell_type": "code",
   "execution_count": null,
   "id": "41e91ef7",
   "metadata": {},
   "outputs": [],
   "source": []
  }
 ],
 "metadata": {
  "kernelspec": {
   "display_name": "Python 3",
   "language": "python",
   "name": "python3"
  },
  "language_info": {
   "codemirror_mode": {
    "name": "ipython",
    "version": 3
   },
   "file_extension": ".py",
   "mimetype": "text/x-python",
   "name": "python",
   "nbconvert_exporter": "python",
   "pygments_lexer": "ipython3",
   "version": "3.8.10"
  },
  "vscode": {
   "interpreter": {
    "hash": "916dbcbb3f70747c44a77c7bcd40155683ae19c65e1c03b4aa3499c5328201f1"
   }
  }
 },
 "nbformat": 4,
 "nbformat_minor": 5
}
