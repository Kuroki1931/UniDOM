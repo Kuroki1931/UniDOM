{
 "cells": [
  {
   "cell_type": "code",
   "execution_count": 15,
   "id": "9a11c332",
   "metadata": {},
   "outputs": [
    {
     "data": {
      "text/plain": [
       "True"
      ]
     },
     "execution_count": 15,
     "metadata": {},
     "output_type": "execute_result"
    }
   ],
   "source": [
    "import cv2\n",
    "from cv2 import aruco\n",
    "import numpy as np\n",
    "import os\n",
    "\n",
    "count = 0\n",
    "size_mark = 200 #Size of markers\n",
    "margin_size = 20  # Size of margin\n",
    "\n",
    "### --- marker images are generated and saved --- ###\n",
    "# Call marker type\n",
    "dict_aruco = aruco.Dictionary_get(aruco.DICT_5X5_50)\n",
    "margin = np.full((size_mark, margin_size), 255, dtype=np.uint8)\n",
    "\n",
    "# Create four markers\n",
    "img_mark1 = aruco.drawMarker(dict_aruco, count, size_mark)\n",
    "img_mark2 = aruco.drawMarker(dict_aruco, count+1, size_mark)\n",
    "img_mark3 = aruco.drawMarker(dict_aruco, count+2, size_mark)\n",
    "img_mark4 = aruco.drawMarker(dict_aruco, count+3, size_mark)\n",
    "\n",
    "# Concatenate the markers horizontally with margin\n",
    "img_top = np.hstack((img_mark1, margin, img_mark2))\n",
    "img_bottom = np.hstack((img_mark3, margin, img_mark4))\n",
    "\n",
    "# Create vertical margin\n",
    "vertical_margin = np.full((margin_size, img_top.shape[1]), 255, dtype=np.uint8)\n",
    "\n",
    "# Concatenate the markers vertically with margin\n",
    "img_final = np.vstack((img_top, vertical_margin, img_bottom))\n",
    "\n",
    "# Save the final image\n",
    "cv2.imwrite(f'aruco.jpg', img_final)"
   ]
  },
  {
   "cell_type": "code",
   "execution_count": null,
   "id": "1123115e",
   "metadata": {},
   "outputs": [],
   "source": []
  },
  {
   "cell_type": "code",
   "execution_count": null,
   "id": "1b707a65",
   "metadata": {},
   "outputs": [],
   "source": []
  }
 ],
 "metadata": {
  "kernelspec": {
   "display_name": "Python 3",
   "language": "python",
   "name": "python3"
  },
  "language_info": {
   "codemirror_mode": {
    "name": "ipython",
    "version": 3
   },
   "file_extension": ".py",
   "mimetype": "text/x-python",
   "name": "python",
   "nbconvert_exporter": "python",
   "pygments_lexer": "ipython3",
   "version": "3.8.10"
  },
  "vscode": {
   "interpreter": {
    "hash": "916dbcbb3f70747c44a77c7bcd40155683ae19c65e1c03b4aa3499c5328201f1"
   }
  }
 },
 "nbformat": 4,
 "nbformat_minor": 5
}
