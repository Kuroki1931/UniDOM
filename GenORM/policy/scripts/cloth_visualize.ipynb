{
 "cells": [
  {
   "cell_type": "code",
   "execution_count": 2,
   "id": "8e660e76",
   "metadata": {},
   "outputs": [],
   "source": [
    "import io\n",
    "import cv2\n",
    "import numpy as np\n",
    "import pickle\n",
    "import matplotlib.pyplot as plt\n",
    "from mpl_toolkits.mplot3d import axes3d, Axes3D"
   ]
  },
  {
   "cell_type": "code",
   "execution_count": 55,
   "id": "79fe6886",
   "metadata": {},
   "outputs": [],
   "source": [
    "# print('navy--------------')\n",
    "# dist_list, E_list, nu_list = analyze_points('/root/PlasticineLab/real2sim/real_points/cloth/navy/2023-08-10 17:28:36.682808', 2000, 2005, 'real2sim_grad')\n",
    "# print('black--------------')\n",
    "# dist_list, E_list, nu_list = analyze_points('/root/PlasticineLab/real2sim/real_points/cloth/black/2023-08-12 14:43:14.792454', 2000, 2005, 'real2sim_grad')\n",
    "\n",
    "# real = np.load('/root/PlasticineLab/real2sim/real_points/cloth/black/2023-08-12 14:43:14.792454/2004/state.npy', allow_pickle=True)\n",
    "real = np.load('/root/PlasticineLab/real2sim/real_points/cloth/navy/2023-08-12 21:59:14.494469/2007/state.npy', allow_pickle=True)"
   ]
  },
  {
   "cell_type": "code",
   "execution_count": 57,
   "id": "df770a8c",
   "metadata": {},
   "outputs": [
    {
     "name": "stderr",
     "output_type": "stream",
     "text": [
      "/tmp/ipykernel_2335834/3390341373.py:49: DeprecationWarning: Starting with ImageIO v3 the behavior of this function will switch to that of iio.v3.imread. To keep the current behavior (and make this warning disappear) use `import imageio.v2 as imageio` or call `imageio.v2.imread` directly.\n",
      "  image = imageio.imread(filename)\n"
     ]
    }
   ],
   "source": [
    "import matplotlib.pyplot as plt\n",
    "import imageio\n",
    "\n",
    "# ... [Your data loading and other preliminary code here]\n",
    "\n",
    "plt.rcParams['font.size'] = 7\n",
    "vis_index = 150\n",
    "count = 0\n",
    "\n",
    "# Create a list to store file names of saved figures\n",
    "filenames = []\n",
    "\n",
    "for real_pcds in real[:vis_index]:\n",
    "    fig = plt.figure(figsize=(15, 5))\n",
    "    ax1 = fig.add_subplot(1, 3, 1, projection='3d')\n",
    "    angle = 360/vis_index*count / 2\n",
    "    ax1.set_xticks([])\n",
    "    ax1.set_yticks([])\n",
    "    ax1.set_zticks([])\n",
    "    ax1.set_xlabel('X Label')\n",
    "    ax1.set_ylabel('Y Label')\n",
    "    ax1.set_zlabel('Z Label')\n",
    "    ax1.set_xlim([0.2, 0.8])\n",
    "    ax1.set_ylim([0.2, 0.8])\n",
    "    ax1.set_zlim([0.2, 0.8])\n",
    "    ax1.axis('off')\n",
    "    ax1.elev = angle\n",
    "    ax1.azim = 0\n",
    "    ax1.scatter(real_pcds[:, 0], real_pcds[:, 1], real_pcds[:, 2], s=1)\n",
    "    \n",
    "    ax1.set_autoscale_on(False)\n",
    "    \n",
    "    # Save the current figure as an image\n",
    "    filename = f\"navy/plot_{count}.png\"\n",
    "    plt.savefig(filename)\n",
    "    filenames.append(filename)\n",
    "    \n",
    "    plt.close()  # Close the current figure to free up memory\n",
    "    count += 1\n",
    "\n",
    "# Number of loops (0 for infinite)\n",
    "num_loops = 0\n",
    "\n",
    "# Duration of each frame in seconds\n",
    "frame_duration = 0.1\n",
    "\n",
    "with imageio.get_writer('3d_rotation.gif', mode='I', duration=frame_duration, loop=num_loops) as writer:\n",
    "    for filename in filenames:\n",
    "        image = imageio.imread(filename)\n",
    "        writer.append_data(image)"
   ]
  },
  {
   "cell_type": "code",
   "execution_count": null,
   "id": "d0f41075",
   "metadata": {},
   "outputs": [],
   "source": []
  },
  {
   "cell_type": "code",
   "execution_count": null,
   "id": "731861f6",
   "metadata": {},
   "outputs": [],
   "source": []
  },
  {
   "cell_type": "code",
   "execution_count": null,
   "id": "601d8a83",
   "metadata": {},
   "outputs": [],
   "source": []
  },
  {
   "cell_type": "code",
   "execution_count": null,
   "metadata": {},
   "outputs": [],
   "source": []
  },
  {
   "cell_type": "code",
   "execution_count": null,
   "metadata": {},
   "outputs": [],
   "source": []
  },
  {
   "cell_type": "code",
   "execution_count": null,
   "metadata": {},
   "outputs": [],
   "source": []
  },
  {
   "cell_type": "code",
   "execution_count": null,
   "metadata": {},
   "outputs": [],
   "source": []
  },
  {
   "cell_type": "code",
   "execution_count": null,
   "metadata": {},
   "outputs": [],
   "source": []
  },
  {
   "cell_type": "code",
   "execution_count": null,
   "metadata": {},
   "outputs": [],
   "source": []
  },
  {
   "cell_type": "code",
   "execution_count": null,
   "metadata": {},
   "outputs": [],
   "source": []
  },
  {
   "cell_type": "code",
   "execution_count": null,
   "id": "e04071c4",
   "metadata": {},
   "outputs": [],
   "source": []
  }
 ],
 "metadata": {
  "kernelspec": {
   "display_name": "Python 3",
   "language": "python",
   "name": "python3"
  },
  "language_info": {
   "codemirror_mode": {
    "name": "ipython",
    "version": 3
   },
   "file_extension": ".py",
   "mimetype": "text/x-python",
   "name": "python",
   "nbconvert_exporter": "python",
   "pygments_lexer": "ipython3",
   "version": "3.8.10"
  },
  "vscode": {
   "interpreter": {
    "hash": "916dbcbb3f70747c44a77c7bcd40155683ae19c65e1c03b4aa3499c5328201f1"
   }
  }
 },
 "nbformat": 4,
 "nbformat_minor": 5
}
